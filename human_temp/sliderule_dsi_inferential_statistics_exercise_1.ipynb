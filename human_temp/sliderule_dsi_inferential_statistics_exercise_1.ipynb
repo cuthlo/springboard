{
 "cells": [
  {
   "cell_type": "markdown",
   "metadata": {},
   "source": [
    "# What is the True Normal Human Body Temperature? \n",
    "\n",
    "#### Background\n",
    "\n",
    "The mean normal body temperature was held to be 37$^{\\circ}$C or 98.6$^{\\circ}$F for more than 120 years since it was first conceptualized and reported by Carl Wunderlich in a famous 1868 book. But, is this value statistically correct?"
   ]
  },
  {
   "cell_type": "markdown",
   "metadata": {},
   "source": [
    "<h3>Exercises</h3>\n",
    "\n",
    "<p>In this exercise, you will analyze a dataset of human body temperatures and employ the concepts of hypothesis testing, confidence intervals, and statistical significance.</p>\n",
    "\n",
    "<p>Answer the following questions <b>in this notebook below and submit to your Github account</b>.</p> \n",
    "\n",
    "<ol>\n",
    "<li>  Is the distribution of body temperatures normal? \n",
    "    <ul>\n",
    "    <li> Although this is not a requirement for CLT to hold (read CLT carefully), it gives us some peace of mind that the population may also be normally distributed if we assume that this sample is representative of the population.\n",
    "    </ul>\n",
    "<li>  Is the sample size large? Are the observations independent?\n",
    "    <ul>\n",
    "    <li> Remember that this is a condition for the CLT, and hence the statistical tests we are using, to apply.\n",
    "    </ul>\n",
    "<li>  Is the true population mean really 98.6 degrees F?\n",
    "    <ul>\n",
    "    <li> Would you use a one-sample or two-sample test? Why?\n",
    "    <li> In this situation, is it appropriate to use the $t$ or $z$ statistic? \n",
    "    <li> Now try using the other test. How is the result be different? Why?\n",
    "    </ul>\n",
    "<li>  Draw a small sample of size 10 from the data and repeat both tests. \n",
    "    <ul>\n",
    "    <li> Which one is the correct one to use? \n",
    "    <li> What do you notice? What does this tell you about the difference in application of the $t$ and $z$ statistic?\n",
    "    </ul>\n",
    "<li>  At what temperature should we consider someone's temperature to be \"abnormal\"?\n",
    "    <ul>\n",
    "    <li> Start by computing the margin of error and confidence interval.\n",
    "    </ul>\n",
    "<li>  Is there a significant difference between males and females in normal temperature?\n",
    "    <ul>\n",
    "    <li> What test did you use and why?\n",
    "    <li> Write a story with your conclusion in the context of the original problem.\n",
    "    </ul>\n",
    "</ol>\n",
    "\n",
    "You can include written notes in notebook cells using Markdown: \n",
    "   - In the control panel at the top, choose Cell > Cell Type > Markdown\n",
    "   - Markdown syntax: http://nestacms.com/docs/creating-content/markdown-cheat-sheet\n",
    "\n",
    "#### Resources\n",
    "\n",
    "+ Information and data sources: http://www.amstat.org/publications/jse/datasets/normtemp.txt, http://www.amstat.org/publications/jse/jse_data_archive.htm\n",
    "+ Markdown syntax: http://nestacms.com/docs/creating-content/markdown-cheat-sheet\n",
    "\n",
    "****"
   ]
  },
  {
   "cell_type": "code",
   "execution_count": 66,
   "metadata": {
    "collapsed": true
   },
   "outputs": [],
   "source": [
    "import pandas as pd\n",
    "import matplotlib.pyplot as plt\n",
    "import numpy as np\n",
    "from scipy import stats\n",
    "\n",
    "df = pd.read_csv('data/human_body_temperature.csv')"
   ]
  },
  {
   "cell_type": "code",
   "execution_count": 67,
   "metadata": {},
   "outputs": [
    {
     "name": "stdout",
     "output_type": "stream",
     "text": [
      "<class 'pandas.core.frame.DataFrame'>\n",
      "RangeIndex: 130 entries, 0 to 129\n",
      "Data columns (total 3 columns):\n",
      "temperature    130 non-null float64\n",
      "gender         130 non-null object\n",
      "heart_rate     130 non-null float64\n",
      "dtypes: float64(2), object(1)\n",
      "memory usage: 3.1+ KB\n"
     ]
    }
   ],
   "source": [
    "df.info()"
   ]
  },
  {
   "cell_type": "code",
   "execution_count": 68,
   "metadata": {},
   "outputs": [],
   "source": [
    "x = df['temperature']"
   ]
  },
  {
   "cell_type": "code",
   "execution_count": 69,
   "metadata": {},
   "outputs": [
    {
     "data": {
      "text/plain": [
       "(array([  2.,   4.,   8.,  11.,  26.,  18.,  30.,  17.,  10.,   1.,   2.,\n",
       "          0.,   1.]),\n",
       " array([  96.3       ,   96.64615385,   96.99230769,   97.33846154,\n",
       "          97.68461538,   98.03076923,   98.37692308,   98.72307692,\n",
       "          99.06923077,   99.41538462,   99.76153846,  100.10769231,\n",
       "         100.45384615,  100.8       ]),\n",
       " <a list of 13 Patch objects>)"
      ]
     },
     "execution_count": 69,
     "metadata": {},
     "output_type": "execute_result"
    }
   ],
   "source": [
    "plt.hist(x, bins='auto', facecolor='green', alpha=0.75)"
   ]
  },
  {
   "cell_type": "code",
   "execution_count": 70,
   "metadata": {},
   "outputs": [
    {
     "data": {
      "image/png": "[encoded data removed]",
      "text/plain": [
       "<matplotlib.figure.Figure at 0x1a12dd9eb8>"
      ]
     },
     "metadata": {},
     "output_type": "display_data"
    }
   ],
   "source": [
    "plt.xlabel('Temperature (F)')\n",
    "plt.ylabel('Frequency')\n",
    "plt.grid(True)\n",
    "\n",
    "plt.show()"
   ]
  },
  {
   "cell_type": "code",
   "execution_count": 71,
   "metadata": {},
   "outputs": [
    {
     "name": "stdout",
     "output_type": "stream",
     "text": [
      "Mean of temperature 98.24923076923078\n",
      "Median of temperature 98.3\n",
      "Mode of temperature ModeResult(mode=array([ 98.]), count=array([11]))\n",
      "The data is more likely normally distributed\n"
     ]
    }
   ],
   "source": [
    "print('Mean of temperature', np.mean(x))\n",
    "print('Median of temperature', np.median(x))\n",
    "print('Mode of temperature', stats.mode(x))\n",
    "\n",
    "# Performs normal test\n",
    "import scipy.stats as stats\n",
    "\n",
    "def isNormal(data):\n",
    "    z, p = stats.mstats.normaltest(data)\n",
    "    \n",
    "    if (p < 0.055):\n",
    "        print('The data is more likely NOT normally distributed')\n",
    "    else:\n",
    "        print('The data is more likely normally distributed')\n",
    "        \n",
    "isNormal(x)"
   ]
  },
  {
   "cell_type": "markdown",
   "metadata": {},
   "source": [
    "### 1) Is the distribution of body temperatures normal?\n",
    "\n",
    "This is a normal distribution because mean, median and mode are close\n",
    "\n",
    "### 2) Is the sample size large? Are the observations independent?\n",
    "\n",
    "Yes, because no of observation is more than 30. Observations are independent according to the data source description as random sample."
   ]
  },
  {
   "cell_type": "markdown",
   "metadata": {},
   "source": [
    "### 3) Is the true population mean really 98.6 degrees F?\n",
    "\n",
    "    Would you use a one-sample or two-sample test? Why?\n",
    "\n",
    "        One-sample test will be used, because we are comparing the dataset with a population mean.\n",
    "\n",
    "    In this situation, is it appropriate to use the  $t$  or  $z$ statistic?\n",
    "\n",
    "        $z$ statistic is more appropriate since the sample size is large\n",
    "        \n",
    "We set the hypothesis test with the following:\n",
    "\n",
    "$H_0$: The mean of the sample and the true mean of 98.6 are the same. $\\mu=\\mu_0$\n",
    "\n",
    "$H_A$: The means are different. $\\mu\\neq\\mu_0$"
   ]
  },
  {
   "cell_type": "code",
   "execution_count": 72,
   "metadata": {},
   "outputs": [
    {
     "name": "stdout",
     "output_type": "stream",
     "text": [
      "z score is:  -5.47592520208\n",
      "P(|z| > -5.476) = 4.35231516588e-08\n"
     ]
    }
   ],
   "source": [
    "sample_mean = np.mean(x)\n",
    "sample_sd = np.std(x)\n",
    "\n",
    "z = (sample_mean - 98.6)/(sample_sd/np.sqrt(x.count()))\n",
    "\n",
    "print('z score is: ',z)\n",
    "\n",
    "p_z = stats.norm.sf(abs(z))*2\n",
    "\n",
    "print('P(|z| > -5.476) =', p_z)"
   ]
  },
  {
   "cell_type": "markdown",
   "metadata": {},
   "source": [
    "Since the z score is very low and the p value is extremely small as well, therefore, we has to reject the null hypothese\n",
    "\n",
    "Next, we try to plug in the number into $t$ test to see the result. Since the t and z value are approximately the same."
   ]
  },
  {
   "cell_type": "code",
   "execution_count": 73,
   "metadata": {},
   "outputs": [
    {
     "name": "stdout",
     "output_type": "stream",
     "text": [
      "t = -5.47592520208\n",
      "P(|t| >= 5.476) = 2.18874646241e-07\n"
     ]
    }
   ],
   "source": [
    "# Performs t test\n",
    "t = z\n",
    "print('t =', t)\n",
    "\n",
    "p_t = stats.t.sf(np.abs(t), len(x)-1)*2\n",
    "print('P(|t| >= 5.476) =', p_t)"
   ]
  },
  {
   "cell_type": "markdown",
   "metadata": {},
   "source": [
    "The p value is different but still small enough to reject the null hypothese.\n",
    "\n",
    "### 4) Draw a small sample of size 10 from the data and repeat both tests. \n",
    "      Which one is the correct one to use? \n",
    "      What do you notice? What does this tell you about the difference in application of the t and z statistic?"
   ]
  },
  {
   "cell_type": "code",
   "execution_count": 74,
   "metadata": {},
   "outputs": [
    {
     "data": {
      "text/plain": [
       "array([ 98.4,  97.2,  98.8,  97.8,  98. ,  98.4,  97.9,  97.2,  97.7,  98.2])"
      ]
     },
     "execution_count": 74,
     "metadata": {},
     "output_type": "execute_result"
    }
   ],
   "source": [
    "# Draws random sample of 10\n",
    "sample = np.random.choice(x, size=10)\n",
    "\n",
    "sample"
   ]
  },
  {
   "cell_type": "code",
   "execution_count": 75,
   "metadata": {},
   "outputs": [
    {
     "name": "stdout",
     "output_type": "stream",
     "text": [
      "t = -4.12774388144\n",
      "p =  0.000392231622671\n"
     ]
    }
   ],
   "source": [
    "# Performs t test with 10 samples\n",
    "\n",
    "t2 = (np.mean(sample) - 98.6) / (np.std(sample) / np.sqrt(len(sample)))\n",
    "\n",
    "print('t =', t2)\n",
    "\n",
    "p_t2 = stats.t.sf(np.abs(t), len(sample)-1)*2\n",
    "print('p = ', p_t2)"
   ]
  },
  {
   "cell_type": "code",
   "execution_count": 76,
   "metadata": {},
   "outputs": [
    {
     "name": "stdout",
     "output_type": "stream",
     "text": [
      "z = -4.12774388144\n",
      "p = 4.35231516588e-08\n"
     ]
    }
   ],
   "source": [
    "# Performs z test with 10 samples\n",
    "\n",
    "z2 = (np.mean(sample) - 98.6) / (np.std(sample) / np.sqrt(len(sample)))\n",
    "\n",
    "print('z =', z2)\n",
    "\n",
    "p_z2 = stats.norm.sf(abs(z))*2\n",
    "print('p =', p_z2)"
   ]
  },
  {
   "cell_type": "markdown",
   "metadata": {},
   "source": [
    "The p value result is different significantly, which mean if a wrong statistics is picked for a small samples case, one may end up with a wrong conclusion. For this case sample size is smaller than 30, $t$ statistics should be used. \n",
    "\n",
    "### 5) At what temperature should we consider someone's temperature to be \"abnormal\"?\n",
    "\n",
    "    Start by computing the margin of error and confidence interval.\n"
   ]
  },
  {
   "cell_type": "code",
   "execution_count": 77,
   "metadata": {},
   "outputs": [
    {
     "name": "stdout",
     "output_type": "stream",
     "text": [
      "The mean temperature of the data is 98.24923076923078\n",
      "The standard deviation of temperature of the data is 0.7303577789050377\n",
      "margin of error for a sample mean = 0.125550964803\n"
     ]
    }
   ],
   "source": [
    "# Calculates margin of error for sample mean with 95% confidence\n",
    "\n",
    "print('The mean temperature of the data is', np.mean(x))\n",
    "print('The standard deviation of temperature of the data is', np.std(x))\n",
    "\n",
    "z = 1.96 # this is the value of z for 95% confidence from table\n",
    "\n",
    "error = z * np.std(x) / np.sqrt(len(x))\n",
    "\n",
    "print('margin of error for a sample mean =', error)"
   ]
  },
  {
   "cell_type": "markdown",
   "metadata": {},
   "source": [
    "With 95% confidence interval of mean temperature,  any number 98.25 +/- 0.126 will be treated as abnormal.\n",
    "\n",
    "### 6) Is there a significant difference between males and females in normal temperature?\n",
    "\n",
    "    What test did you use and why?\n",
    "    Write a story with your conclusion in the context of the original problem.\n",
    "    \n",
    "To compare two samples we should use two-sample test \n",
    "\n",
    "We can set the hypothese test as below:\n",
    "\n",
    "$H_0$: There is no difference in the distribution and means of males and females.\n",
    "\n",
    "$H_A$: There is a difference in the distribution and means of males and females."
   ]
  },
  {
   "cell_type": "code",
   "execution_count": 78,
   "metadata": {},
   "outputs": [
    {
     "name": "stdout",
     "output_type": "stream",
     "text": [
      "z = -2.30322028919\n"
     ]
    }
   ],
   "source": [
    "#Separate into male and female dataset\n",
    "\n",
    "male_temperature = df[df['gender'] == 'M']['temperature']\n",
    "female_temperature = df[df['gender'] == 'F']['temperature']\n",
    "\n",
    "#Test statistics\n",
    "\n",
    "z = (np.mean(male_temperature) - np.mean(female_temperature))/np.sqrt((np.std(male_temperature)**2/len(male_temperature))+(np.std(female_temperature)**2/len(female_temperature)))\n",
    "print('z =',z)\n"
   ]
  },
  {
   "cell_type": "markdown",
   "metadata": {},
   "source": [
    "z score is smaller than -1.96 which correspond to alpha = 0.05, therefore, we has to reject the null hypothese. Which means the average temperature of male and female is not the same.\n",
    "\n",
    "### Conclusion\n",
    "The mean normal body temperature was held to be 37 degree C or 98.6 degree F for more than 120 years since it was first conceptualized and reported by Carl Wunderlich in a famous 1868 book. However, this value is not statistically correct. The mean normal body temperature was computed with 95% confidence to be between 98.124 and 98.376. There is also a statistically significant difference in the means between males and females."
   ]
  },
  {
   "cell_type": "code",
   "execution_count": null,
   "metadata": {
    "collapsed": true
   },
   "outputs": [],
   "source": []
  }
 ],
 "metadata": {
  "kernelspec": {
   "display_name": "Python 3",
   "language": "python",
   "name": "python3"
  },
  "language_info": {
   "codemirror_mode": {
    "name": "ipython",
    "version": 3
   },
   "file_extension": ".py",
   "mimetype": "text/x-python",
   "name": "python",
   "nbconvert_exporter": "python",
   "pygments_lexer": "ipython3",
   "version": "3.6.3"
  }
 },
 "nbformat": 4,
 "nbformat_minor": 1
}
