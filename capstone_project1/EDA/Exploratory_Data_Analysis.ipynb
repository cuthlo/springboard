{
 "cells": [
  {
   "cell_type": "markdown",
   "metadata": {},
   "source": [
    "## Exploratory Data Analysis"
   ]
  },
  {
   "cell_type": "code",
   "execution_count": 172,
   "metadata": {
    "collapsed": true
   },
   "outputs": [],
   "source": [
    "import pandas as pd\n",
    "import matplotlib.pyplot as plt\n",
    "import seaborn as sns\n",
    "pd.set_option('display.max_columns', None)"
   ]
  },
  {
   "cell_type": "code",
   "execution_count": 173,
   "metadata": {
    "collapsed": true
   },
   "outputs": [],
   "source": [
    "df = pd.read_csv('cleaned_dataset_EDA.csv')"
   ]
  },
  {
   "cell_type": "code",
   "execution_count": 174,
   "metadata": {},
   "outputs": [
    {
     "data": {
      "text/plain": [
       "(784754, 49)"
      ]
     },
     "execution_count": 174,
     "metadata": {},
     "output_type": "execute_result"
    }
   ],
   "source": [
    "df.shape"
   ]
  },
  {
   "cell_type": "code",
   "execution_count": 175,
   "metadata": {},
   "outputs": [
    {
     "data": {
      "text/html": [
       "<div>\n",
       "<style>\n",
       "    .dataframe thead tr:only-child th {\n",
       "        text-align: right;\n",
       "    }\n",
       "\n",
       "    .dataframe thead th {\n",
       "        text-align: left;\n",
       "    }\n",
       "\n",
       "    .dataframe tbody tr th {\n",
       "        vertical-align: top;\n",
       "    }\n",
       "</style>\n",
       "<table border=\"1\" class=\"dataframe\">\n",
       "  <thead>\n",
       "    <tr style=\"text-align: right;\">\n",
       "      <th></th>\n",
       "      <th>Year</th>\n",
       "      <th>Quarter</th>\n",
       "      <th>Month</th>\n",
       "      <th>DayofMonth</th>\n",
       "      <th>DayOfWeek</th>\n",
       "      <th>OriginWac</th>\n",
       "      <th>DestWac</th>\n",
       "      <th>CRSDepTime</th>\n",
       "      <th>CRSArrTime</th>\n",
       "      <th>CRSElapsedTime</th>\n",
       "      <th>Distance</th>\n",
       "      <th>DistanceGroup</th>\n",
       "      <th>CarrierDelay</th>\n",
       "      <th>WeatherDelay</th>\n",
       "      <th>NASDelay</th>\n",
       "      <th>SecurityDelay</th>\n",
       "      <th>LateAircraftDelay</th>\n",
       "      <th>AptPreviousDateDelay</th>\n",
       "      <th>AptNoOfFlight</th>\n",
       "      <th>tmpf</th>\n",
       "      <th>dwpf</th>\n",
       "      <th>relh</th>\n",
       "      <th>drct</th>\n",
       "      <th>sknt</th>\n",
       "      <th>p01i</th>\n",
       "      <th>alti</th>\n",
       "      <th>vsby</th>\n",
       "      <th>gust</th>\n",
       "      <th>skyl1</th>\n",
       "      <th>skyl2</th>\n",
       "      <th>skyl3</th>\n",
       "      <th>skyl4</th>\n",
       "      <th>IsDelay</th>\n",
       "    </tr>\n",
       "  </thead>\n",
       "  <tbody>\n",
       "    <tr>\n",
       "      <th>count</th>\n",
       "      <td>784754.0</td>\n",
       "      <td>784754.0</td>\n",
       "      <td>784754.000000</td>\n",
       "      <td>784754.000000</td>\n",
       "      <td>784754.000000</td>\n",
       "      <td>784754.000000</td>\n",
       "      <td>784754.000000</td>\n",
       "      <td>784754.000000</td>\n",
       "      <td>784754.000000</td>\n",
       "      <td>784754.000000</td>\n",
       "      <td>784754.000000</td>\n",
       "      <td>784754.000000</td>\n",
       "      <td>175106.000000</td>\n",
       "      <td>175106.000000</td>\n",
       "      <td>175106.000000</td>\n",
       "      <td>175106.000000</td>\n",
       "      <td>175106.000000</td>\n",
       "      <td>784754.000000</td>\n",
       "      <td>784754.000000</td>\n",
       "      <td>784754.000000</td>\n",
       "      <td>784754.000000</td>\n",
       "      <td>784754.000000</td>\n",
       "      <td>784754.000000</td>\n",
       "      <td>784754.000000</td>\n",
       "      <td>784754.000000</td>\n",
       "      <td>784754.000000</td>\n",
       "      <td>784754.000000</td>\n",
       "      <td>784754.000000</td>\n",
       "      <td>784754.000000</td>\n",
       "      <td>784754.000000</td>\n",
       "      <td>784754.000000</td>\n",
       "      <td>784754.000000</td>\n",
       "      <td>784754.000000</td>\n",
       "    </tr>\n",
       "    <tr>\n",
       "      <th>mean</th>\n",
       "      <td>2017.0</td>\n",
       "      <td>2.0</td>\n",
       "      <td>5.031381</td>\n",
       "      <td>15.867945</td>\n",
       "      <td>3.905389</td>\n",
       "      <td>57.665081</td>\n",
       "      <td>56.187437</td>\n",
       "      <td>13.512345</td>\n",
       "      <td>15.000209</td>\n",
       "      <td>157.305828</td>\n",
       "      <td>936.330547</td>\n",
       "      <td>4.210223</td>\n",
       "      <td>19.705361</td>\n",
       "      <td>3.076359</td>\n",
       "      <td>16.965975</td>\n",
       "      <td>0.061112</td>\n",
       "      <td>26.101870</td>\n",
       "      <td>113.790542</td>\n",
       "      <td>525.638571</td>\n",
       "      <td>69.371703</td>\n",
       "      <td>48.951756</td>\n",
       "      <td>55.720440</td>\n",
       "      <td>176.931190</td>\n",
       "      <td>8.968601</td>\n",
       "      <td>0.002073</td>\n",
       "      <td>29.944102</td>\n",
       "      <td>9.508871</td>\n",
       "      <td>4.195633</td>\n",
       "      <td>7135.291765</td>\n",
       "      <td>8542.542258</td>\n",
       "      <td>5696.457001</td>\n",
       "      <td>1603.253012</td>\n",
       "      <td>0.223135</td>\n",
       "    </tr>\n",
       "    <tr>\n",
       "      <th>std</th>\n",
       "      <td>0.0</td>\n",
       "      <td>0.0</td>\n",
       "      <td>0.810905</td>\n",
       "      <td>8.661521</td>\n",
       "      <td>1.987757</td>\n",
       "      <td>26.696523</td>\n",
       "      <td>26.802042</td>\n",
       "      <td>4.941924</td>\n",
       "      <td>5.341170</td>\n",
       "      <td>80.150826</td>\n",
       "      <td>649.304770</td>\n",
       "      <td>2.559683</td>\n",
       "      <td>56.646723</td>\n",
       "      <td>25.235760</td>\n",
       "      <td>34.878501</td>\n",
       "      <td>2.015064</td>\n",
       "      <td>48.143588</td>\n",
       "      <td>86.570455</td>\n",
       "      <td>242.552572</td>\n",
       "      <td>13.460340</td>\n",
       "      <td>14.725223</td>\n",
       "      <td>24.426281</td>\n",
       "      <td>105.190087</td>\n",
       "      <td>5.003241</td>\n",
       "      <td>0.017709</td>\n",
       "      <td>0.179356</td>\n",
       "      <td>1.688264</td>\n",
       "      <td>8.956114</td>\n",
       "      <td>7480.577699</td>\n",
       "      <td>9411.976654</td>\n",
       "      <td>9316.864443</td>\n",
       "      <td>5851.928825</td>\n",
       "      <td>0.416348</td>\n",
       "    </tr>\n",
       "    <tr>\n",
       "      <th>min</th>\n",
       "      <td>2017.0</td>\n",
       "      <td>2.0</td>\n",
       "      <td>4.000000</td>\n",
       "      <td>1.000000</td>\n",
       "      <td>1.000000</td>\n",
       "      <td>13.000000</td>\n",
       "      <td>1.000000</td>\n",
       "      <td>0.000000</td>\n",
       "      <td>0.000000</td>\n",
       "      <td>1.000000</td>\n",
       "      <td>66.000000</td>\n",
       "      <td>1.000000</td>\n",
       "      <td>0.000000</td>\n",
       "      <td>0.000000</td>\n",
       "      <td>0.000000</td>\n",
       "      <td>0.000000</td>\n",
       "      <td>0.000000</td>\n",
       "      <td>6.000000</td>\n",
       "      <td>164.000000</td>\n",
       "      <td>24.100000</td>\n",
       "      <td>-11.000000</td>\n",
       "      <td>0.960000</td>\n",
       "      <td>-1.000000</td>\n",
       "      <td>0.000000</td>\n",
       "      <td>0.000000</td>\n",
       "      <td>3.000000</td>\n",
       "      <td>0.000000</td>\n",
       "      <td>0.000000</td>\n",
       "      <td>-1.000000</td>\n",
       "      <td>-1.000000</td>\n",
       "      <td>-1.000000</td>\n",
       "      <td>-1.000000</td>\n",
       "      <td>0.000000</td>\n",
       "    </tr>\n",
       "    <tr>\n",
       "      <th>25%</th>\n",
       "      <td>2017.0</td>\n",
       "      <td>2.0</td>\n",
       "      <td>4.000000</td>\n",
       "      <td>8.000000</td>\n",
       "      <td>2.000000</td>\n",
       "      <td>34.000000</td>\n",
       "      <td>34.000000</td>\n",
       "      <td>9.000000</td>\n",
       "      <td>11.000000</td>\n",
       "      <td>96.000000</td>\n",
       "      <td>430.000000</td>\n",
       "      <td>2.000000</td>\n",
       "      <td>0.000000</td>\n",
       "      <td>0.000000</td>\n",
       "      <td>0.000000</td>\n",
       "      <td>0.000000</td>\n",
       "      <td>0.000000</td>\n",
       "      <td>56.000000</td>\n",
       "      <td>358.000000</td>\n",
       "      <td>60.100000</td>\n",
       "      <td>39.000000</td>\n",
       "      <td>37.960000</td>\n",
       "      <td>90.000000</td>\n",
       "      <td>5.000000</td>\n",
       "      <td>0.000000</td>\n",
       "      <td>29.840000</td>\n",
       "      <td>10.000000</td>\n",
       "      <td>0.000000</td>\n",
       "      <td>1600.000000</td>\n",
       "      <td>-1.000000</td>\n",
       "      <td>-1.000000</td>\n",
       "      <td>-1.000000</td>\n",
       "      <td>0.000000</td>\n",
       "    </tr>\n",
       "    <tr>\n",
       "      <th>50%</th>\n",
       "      <td>2017.0</td>\n",
       "      <td>2.0</td>\n",
       "      <td>5.000000</td>\n",
       "      <td>16.000000</td>\n",
       "      <td>4.000000</td>\n",
       "      <td>63.000000</td>\n",
       "      <td>52.000000</td>\n",
       "      <td>13.000000</td>\n",
       "      <td>15.000000</td>\n",
       "      <td>139.000000</td>\n",
       "      <td>762.000000</td>\n",
       "      <td>4.000000</td>\n",
       "      <td>1.000000</td>\n",
       "      <td>0.000000</td>\n",
       "      <td>3.000000</td>\n",
       "      <td>0.000000</td>\n",
       "      <td>3.000000</td>\n",
       "      <td>92.000000</td>\n",
       "      <td>438.000000</td>\n",
       "      <td>70.000000</td>\n",
       "      <td>50.000000</td>\n",
       "      <td>57.180000</td>\n",
       "      <td>190.000000</td>\n",
       "      <td>8.000000</td>\n",
       "      <td>0.000000</td>\n",
       "      <td>29.950000</td>\n",
       "      <td>10.000000</td>\n",
       "      <td>0.000000</td>\n",
       "      <td>4500.000000</td>\n",
       "      <td>5000.000000</td>\n",
       "      <td>-1.000000</td>\n",
       "      <td>-1.000000</td>\n",
       "      <td>0.000000</td>\n",
       "    </tr>\n",
       "    <tr>\n",
       "      <th>75%</th>\n",
       "      <td>2017.0</td>\n",
       "      <td>2.0</td>\n",
       "      <td>6.000000</td>\n",
       "      <td>23.000000</td>\n",
       "      <td>6.000000</td>\n",
       "      <td>82.000000</td>\n",
       "      <td>82.000000</td>\n",
       "      <td>18.000000</td>\n",
       "      <td>19.000000</td>\n",
       "      <td>196.000000</td>\n",
       "      <td>1235.000000</td>\n",
       "      <td>5.000000</td>\n",
       "      <td>18.000000</td>\n",
       "      <td>0.000000</td>\n",
       "      <td>21.000000</td>\n",
       "      <td>0.000000</td>\n",
       "      <td>33.000000</td>\n",
       "      <td>139.000000</td>\n",
       "      <td>632.000000</td>\n",
       "      <td>79.000000</td>\n",
       "      <td>60.100000</td>\n",
       "      <td>74.930000</td>\n",
       "      <td>260.000000</td>\n",
       "      <td>12.000000</td>\n",
       "      <td>0.000000</td>\n",
       "      <td>30.060000</td>\n",
       "      <td>10.000000</td>\n",
       "      <td>0.000000</td>\n",
       "      <td>10000.000000</td>\n",
       "      <td>15000.000000</td>\n",
       "      <td>10000.000000</td>\n",
       "      <td>-1.000000</td>\n",
       "      <td>0.000000</td>\n",
       "    </tr>\n",
       "    <tr>\n",
       "      <th>max</th>\n",
       "      <td>2017.0</td>\n",
       "      <td>2.0</td>\n",
       "      <td>6.000000</td>\n",
       "      <td>31.000000</td>\n",
       "      <td>7.000000</td>\n",
       "      <td>93.000000</td>\n",
       "      <td>93.000000</td>\n",
       "      <td>23.000000</td>\n",
       "      <td>23.000000</td>\n",
       "      <td>669.000000</td>\n",
       "      <td>4983.000000</td>\n",
       "      <td>11.000000</td>\n",
       "      <td>1732.000000</td>\n",
       "      <td>1179.000000</td>\n",
       "      <td>1276.000000</td>\n",
       "      <td>245.000000</td>\n",
       "      <td>1223.000000</td>\n",
       "      <td>722.000000</td>\n",
       "      <td>1124.000000</td>\n",
       "      <td>118.900000</td>\n",
       "      <td>78.100000</td>\n",
       "      <td>100.000000</td>\n",
       "      <td>360.000000</td>\n",
       "      <td>505.000000</td>\n",
       "      <td>1.140000</td>\n",
       "      <td>30.600000</td>\n",
       "      <td>10.000000</td>\n",
       "      <td>46.000000</td>\n",
       "      <td>33000.000000</td>\n",
       "      <td>35000.000000</td>\n",
       "      <td>35000.000000</td>\n",
       "      <td>35000.000000</td>\n",
       "      <td>1.000000</td>\n",
       "    </tr>\n",
       "  </tbody>\n",
       "</table>\n",
       "</div>"
      ],
      "text/plain": [
       "           Year   Quarter          Month     DayofMonth      DayOfWeek  \\\n",
       "count  784754.0  784754.0  784754.000000  784754.000000  784754.000000   \n",
       "mean     2017.0       2.0       5.031381      15.867945       3.905389   \n",
       "std         0.0       0.0       0.810905       8.661521       1.987757   \n",
       "min      2017.0       2.0       4.000000       1.000000       1.000000   \n",
       "25%      2017.0       2.0       4.000000       8.000000       2.000000   \n",
       "50%      2017.0       2.0       5.000000      16.000000       4.000000   \n",
       "75%      2017.0       2.0       6.000000      23.000000       6.000000   \n",
       "max      2017.0       2.0       6.000000      31.000000       7.000000   \n",
       "\n",
       "           OriginWac        DestWac     CRSDepTime     CRSArrTime  \\\n",
       "count  784754.000000  784754.000000  784754.000000  784754.000000   \n",
       "mean       57.665081      56.187437      13.512345      15.000209   \n",
       "std        26.696523      26.802042       4.941924       5.341170   \n",
       "min        13.000000       1.000000       0.000000       0.000000   \n",
       "25%        34.000000      34.000000       9.000000      11.000000   \n",
       "50%        63.000000      52.000000      13.000000      15.000000   \n",
       "75%        82.000000      82.000000      18.000000      19.000000   \n",
       "max        93.000000      93.000000      23.000000      23.000000   \n",
       "\n",
       "       CRSElapsedTime       Distance  DistanceGroup   CarrierDelay  \\\n",
       "count   784754.000000  784754.000000  784754.000000  175106.000000   \n",
       "mean       157.305828     936.330547       4.210223      19.705361   \n",
       "std         80.150826     649.304770       2.559683      56.646723   \n",
       "min          1.000000      66.000000       1.000000       0.000000   \n",
       "25%         96.000000     430.000000       2.000000       0.000000   \n",
       "50%        139.000000     762.000000       4.000000       1.000000   \n",
       "75%        196.000000    1235.000000       5.000000      18.000000   \n",
       "max        669.000000    4983.000000      11.000000    1732.000000   \n",
       "\n",
       "        WeatherDelay       NASDelay  SecurityDelay  LateAircraftDelay  \\\n",
       "count  175106.000000  175106.000000  175106.000000      175106.000000   \n",
       "mean        3.076359      16.965975       0.061112          26.101870   \n",
       "std        25.235760      34.878501       2.015064          48.143588   \n",
       "min         0.000000       0.000000       0.000000           0.000000   \n",
       "25%         0.000000       0.000000       0.000000           0.000000   \n",
       "50%         0.000000       3.000000       0.000000           3.000000   \n",
       "75%         0.000000      21.000000       0.000000          33.000000   \n",
       "max      1179.000000    1276.000000     245.000000        1223.000000   \n",
       "\n",
       "       AptPreviousDateDelay  AptNoOfFlight           tmpf           dwpf  \\\n",
       "count         784754.000000  784754.000000  784754.000000  784754.000000   \n",
       "mean             113.790542     525.638571      69.371703      48.951756   \n",
       "std               86.570455     242.552572      13.460340      14.725223   \n",
       "min                6.000000     164.000000      24.100000     -11.000000   \n",
       "25%               56.000000     358.000000      60.100000      39.000000   \n",
       "50%               92.000000     438.000000      70.000000      50.000000   \n",
       "75%              139.000000     632.000000      79.000000      60.100000   \n",
       "max              722.000000    1124.000000     118.900000      78.100000   \n",
       "\n",
       "                relh           drct           sknt           p01i  \\\n",
       "count  784754.000000  784754.000000  784754.000000  784754.000000   \n",
       "mean       55.720440     176.931190       8.968601       0.002073   \n",
       "std        24.426281     105.190087       5.003241       0.017709   \n",
       "min         0.960000      -1.000000       0.000000       0.000000   \n",
       "25%        37.960000      90.000000       5.000000       0.000000   \n",
       "50%        57.180000     190.000000       8.000000       0.000000   \n",
       "75%        74.930000     260.000000      12.000000       0.000000   \n",
       "max       100.000000     360.000000     505.000000       1.140000   \n",
       "\n",
       "                alti           vsby           gust          skyl1  \\\n",
       "count  784754.000000  784754.000000  784754.000000  784754.000000   \n",
       "mean       29.944102       9.508871       4.195633    7135.291765   \n",
       "std         0.179356       1.688264       8.956114    7480.577699   \n",
       "min         3.000000       0.000000       0.000000      -1.000000   \n",
       "25%        29.840000      10.000000       0.000000    1600.000000   \n",
       "50%        29.950000      10.000000       0.000000    4500.000000   \n",
       "75%        30.060000      10.000000       0.000000   10000.000000   \n",
       "max        30.600000      10.000000      46.000000   33000.000000   \n",
       "\n",
       "               skyl2          skyl3          skyl4        IsDelay  \n",
       "count  784754.000000  784754.000000  784754.000000  784754.000000  \n",
       "mean     8542.542258    5696.457001    1603.253012       0.223135  \n",
       "std      9411.976654    9316.864443    5851.928825       0.416348  \n",
       "min        -1.000000      -1.000000      -1.000000       0.000000  \n",
       "25%        -1.000000      -1.000000      -1.000000       0.000000  \n",
       "50%      5000.000000      -1.000000      -1.000000       0.000000  \n",
       "75%     15000.000000   10000.000000      -1.000000       0.000000  \n",
       "max     35000.000000   35000.000000   35000.000000       1.000000  "
      ]
     },
     "execution_count": 175,
     "metadata": {},
     "output_type": "execute_result"
    }
   ],
   "source": [
    "df.drop([\"Unnamed: 0\"], axis=1, inplace=True)\n",
    "df.describe()"
   ]
  },
  {
   "cell_type": "markdown",
   "metadata": {
    "collapsed": true
   },
   "source": [
    "### Basic Facts"
   ]
  },
  {
   "cell_type": "code",
   "execution_count": 176,
   "metadata": {},
   "outputs": [
    {
     "name": "stdout",
     "output_type": "stream",
     "text": [
      "Total records:  784754\n",
      "Records for April:  246087\n",
      "Records for May:  267954\n",
      "Records for June:  270713\n"
     ]
    }
   ],
   "source": [
    "print(\"Total records: \", len(df))\n",
    "print(\"Records for April: \", sum(df.Month == 4))\n",
    "print(\"Records for May: \", sum(df.Month == 5))\n",
    "print(\"Records for June: \", sum(df.Month == 6))"
   ]
  },
  {
   "cell_type": "code",
   "execution_count": 177,
   "metadata": {},
   "outputs": [
    {
     "ename": "TypeError",
     "evalue": "'DataFrame' object is not callable",
     "output_type": "error",
     "traceback": [
      "\u001b[0;31m---------------------------------------------------------------------------\u001b[0m",
      "\u001b[0;31mTypeError\u001b[0m                                 Traceback (most recent call last)",
      "\u001b[0;32m<ipython-input-177-16c4936a9c50>\u001b[0m in \u001b[0;36m<module>\u001b[0;34m()\u001b[0m\n\u001b[0;32m----> 1\u001b[0;31m \u001b[0mprint\u001b[0m\u001b[0;34m(\u001b[0m\u001b[0;34m'Percent of delayed flight in dataset: '\u001b[0m\u001b[0;34m,\u001b[0m \u001b[0mdf\u001b[0m\u001b[0;34m(\u001b[0m\u001b[0;34m'IsDelay'\u001b[0m\u001b[0;34m)\u001b[0m\u001b[0;34m.\u001b[0m\u001b[0msum\u001b[0m\u001b[0;34m(\u001b[0m\u001b[0;34m)\u001b[0m\u001b[0;34m/\u001b[0m\u001b[0mlen\u001b[0m\u001b[0;34m(\u001b[0m\u001b[0mdf\u001b[0m\u001b[0;34m)\u001b[0m\u001b[0;34m)\u001b[0m\u001b[0;34m\u001b[0m\u001b[0m\n\u001b[0m",
      "\u001b[0;31mTypeError\u001b[0m: 'DataFrame' object is not callable"
     ]
    }
   ],
   "source": [
    "print('Percent of delayed flight in dataset: ', df('IsDelay').sum()/len(df))"
   ]
  },
  {
   "cell_type": "code",
   "execution_count": null,
   "metadata": {},
   "outputs": [],
   "source": [
    "df[['Origin','OriginCityName']].drop_duplicates().sort_values('Origin').set_index('Origin')"
   ]
  },
  {
   "cell_type": "code",
   "execution_count": null,
   "metadata": {
    "collapsed": true
   },
   "outputs": [],
   "source": [
    "# Convert FlightDate to datetime object\n",
    "df['FlightDate'] = pd.to_datetime(df['FlightDate'])"
   ]
  },
  {
   "cell_type": "markdown",
   "metadata": {},
   "source": [
    "### Percent of delay flights in each airport of origin"
   ]
  },
  {
   "cell_type": "code",
   "execution_count": null,
   "metadata": {},
   "outputs": [],
   "source": [
    "df_delay = 100 * df.groupby(['Origin'])['IsDelay'].sum()/df.groupby(['Origin'])['IsDelay'].count()\n",
    "\n",
    "fig, ax= plt.subplots(1, 1, figsize=(10, 5))\n",
    "\n",
    "df_delay.plot.bar()\n",
    "plt.ylabel('% of Delay Flights')\n",
    "plt.show()"
   ]
  },
  {
   "cell_type": "code",
   "execution_count": null,
   "metadata": {
    "collapsed": true
   },
   "outputs": [],
   "source": [
    "d1 = df.groupby(df.set_index('FlightDate').index.date)['IsDelay'].sum()"
   ]
  },
  {
   "cell_type": "markdown",
   "metadata": {},
   "source": [
    "### Percentage of delay flight of each carriers"
   ]
  },
  {
   "cell_type": "code",
   "execution_count": null,
   "metadata": {},
   "outputs": [],
   "source": [
    "df_carrier_delay = 100 * df.groupby(['Carrier'])['IsDelay'].sum()/df.groupby(['Carrier'])['IsDelay'].count()\n",
    "df_carrier_delay"
   ]
  },
  {
   "cell_type": "code",
   "execution_count": null,
   "metadata": {},
   "outputs": [],
   "source": [
    "fig, ax= plt.subplots(1, 1, figsize=(10, 5))\n",
    "\n",
    "df_carrier_delay.plot.bar(color='r')\n",
    "plt.ylabel('Precent of delay flights (%)')\n",
    "plt.title('Carrier percent of flights delay')\n",
    "plt.show()"
   ]
  },
  {
   "cell_type": "markdown",
   "metadata": {},
   "source": [
    "From the graph above, we can see VX, B6 and NK are the top 3 carriers that have most flight delay during the period."
   ]
  },
  {
   "cell_type": "code",
   "execution_count": null,
   "metadata": {
    "collapsed": true
   },
   "outputs": [],
   "source": [
    "df_origin = df[['Origin']].drop_duplicates().sort_values('Origin').set_index('Origin')\n"
   ]
  },
  {
   "cell_type": "code",
   "execution_count": null,
   "metadata": {
    "collapsed": true
   },
   "outputs": [],
   "source": []
  },
  {
   "cell_type": "code",
   "execution_count": null,
   "metadata": {},
   "outputs": [],
   "source": []
  },
  {
   "cell_type": "markdown",
   "metadata": {
    "collapsed": true
   },
   "source": [
    "### Percent of delay flight for each airline at different airports"
   ]
  },
  {
   "cell_type": "code",
   "execution_count": null,
   "metadata": {},
   "outputs": [],
   "source": [
    "df_carrier_origin = 100*df.groupby(['Carrier','Origin'])['IsDelay'].sum()/df.groupby(['Carrier','Origin'])['IsDelay'].count()"
   ]
  },
  {
   "cell_type": "code",
   "execution_count": null,
   "metadata": {},
   "outputs": [],
   "source": [
    "sns.set()\n",
    "fig, ax1 = plt.subplots(1, 1, figsize=(10, 7))\n",
    "\n",
    "ax1 = sns.heatmap(df_carrier_origin.unstack(),annot=True)\n",
    "plt.title('Carrier vs Origin airport percent of delay flights',size=15)\n",
    "plt.show()"
   ]
  },
  {
   "cell_type": "markdown",
   "metadata": {},
   "source": [
    "From the heatmap above, we can see JetBlue (B6) haivng the worst performance at all 20 airports. Most of them are above 30% with max at 43%. While the worst airline-airport pair is SkyWest (OO) at Orlando (MCO), 50% of flights were delayed."
   ]
  },
  {
   "cell_type": "code",
   "execution_count": null,
   "metadata": {},
   "outputs": [],
   "source": [
    "fig, ax = plt.subplots(1, 1, figsize=(10, 7))\n",
    "\n",
    "df_dayofweeks_delay = 100*df.groupby(['DayOfWeek'])['IsDelay'].sum()/df.groupby(['DayOfWeek'])['IsDelay'].count()\n",
    "df_dayofweeks_delay.plot.bar()\n",
    "plt.xlabel('Day of Week', fontsize = 15)\n",
    "plt.ylabel('Percent of flight delay (%)', fontsize=15)\n",
    "plt.show()"
   ]
  },
  {
   "cell_type": "code",
   "execution_count": null,
   "metadata": {},
   "outputs": [],
   "source": [
    "\n",
    "df_deptimeblock_delay = 100 * df.groupby(['DepTimeBlk','Origin'])['IsDelay'].sum()/df.groupby(['DepTimeBlk','Origin'])['IsDelay'].count()\n",
    "df_deptimeblock_delay.unstack().plot(kind='bar', subplots=True, figsize=(15,30))\n",
    "plt.ylabel('Percent of flight delay (%)')\n",
    "plt.savefig('apthourlydelay.png')\n",
    "plt.show()"
   ]
  },
  {
   "cell_type": "markdown",
   "metadata": {},
   "source": [
    "From the graph above, we can see different airports have different pattern of flight delays. Some tends to have delay in the middle of the day, while some have more delays when close to evening."
   ]
  },
  {
   "cell_type": "code",
   "execution_count": null,
   "metadata": {},
   "outputs": [],
   "source": [
    "fig, ax1 = plt.subplots(1, 1, figsize=(10, 7))\n",
    "\n",
    "plt.scatter(df['AptNoOfFlight'], 100 * df['AptPreviousDateDelay']/df['AptNoOfFlight'])\n",
    "plt.ylabel('Ratio of Last Day delay flight to No. of flight today(%)')\n",
    "plt.xlabel('No. of Delay flight in previous day')\n",
    "plt.show()"
   ]
  },
  {
   "cell_type": "code",
   "execution_count": null,
   "metadata": {},
   "outputs": [],
   "source": []
  },
  {
   "cell_type": "code",
   "execution_count": null,
   "metadata": {},
   "outputs": [],
   "source": [
    "df_distancegroup_delay = 100 * df.groupby(['DistanceGroup'])['IsDelay'].sum()/df.groupby(['DistanceGroup'])['IsDelay'].count()\n",
    "df_distancegroup_delay.unstack().plot(kind='bar', subplots=True, figsize=(15,30))\n",
    "plt.show()"
   ]
  },
  {
   "cell_type": "code",
   "execution_count": null,
   "metadata": {
    "collapsed": true
   },
   "outputs": [],
   "source": []
  }
 ],
 "metadata": {
  "kernelspec": {
   "display_name": "Python 3",
   "language": "python",
   "name": "python3"
  },
  "language_info": {
   "codemirror_mode": {
    "name": "ipython",
    "version": 3
   },
   "file_extension": ".py",
   "mimetype": "text/x-python",
   "name": "python",
   "nbconvert_exporter": "python",
   "pygments_lexer": "ipython3",
   "version": "3.6.3"
  }
 },
 "nbformat": 4,
 "nbformat_minor": 2
}
