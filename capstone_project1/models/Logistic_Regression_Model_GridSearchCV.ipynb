{
 "cells": [
  {
   "cell_type": "code",
   "execution_count": 67,
   "metadata": {
    "collapsed": true
   },
   "outputs": [],
   "source": [
    "from pandas import read_csv\n",
    "import pandas as pd\n",
    "import numpy as np\n"
   ]
  },
  {
   "cell_type": "code",
   "execution_count": 68,
   "metadata": {
    "collapsed": true
   },
   "outputs": [],
   "source": [
    "pd.set_option('display.max_columns', None)"
   ]
  },
  {
   "cell_type": "code",
   "execution_count": 69,
   "metadata": {},
   "outputs": [
    {
     "data": {
      "text/plain": [
       "(784754, 41)"
      ]
     },
     "execution_count": 69,
     "metadata": {},
     "output_type": "execute_result"
    }
   ],
   "source": [
    "#load dataset\n",
    "\n",
    "df = read_csv('../cleaned_dataset.csv')\n",
    "df.shape"
   ]
  },
  {
   "cell_type": "code",
   "execution_count": 70,
   "metadata": {},
   "outputs": [
    {
     "data": {
      "text/html": [
       "<div>\n",
       "<style>\n",
       "    .dataframe thead tr:only-child th {\n",
       "        text-align: right;\n",
       "    }\n",
       "\n",
       "    .dataframe thead th {\n",
       "        text-align: left;\n",
       "    }\n",
       "\n",
       "    .dataframe tbody tr th {\n",
       "        vertical-align: top;\n",
       "    }\n",
       "</style>\n",
       "<table border=\"1\" class=\"dataframe\">\n",
       "  <thead>\n",
       "    <tr style=\"text-align: right;\">\n",
       "      <th></th>\n",
       "      <th>Unnamed: 0</th>\n",
       "      <th>Year</th>\n",
       "      <th>Quarter</th>\n",
       "      <th>Month</th>\n",
       "      <th>DayofMonth</th>\n",
       "      <th>DayOfWeek</th>\n",
       "      <th>Carrier</th>\n",
       "      <th>Origin</th>\n",
       "      <th>OriginState</th>\n",
       "      <th>OriginWac</th>\n",
       "      <th>Dest</th>\n",
       "      <th>DestState</th>\n",
       "      <th>DestWac</th>\n",
       "      <th>CRSDepTime</th>\n",
       "      <th>DepTimeBlk</th>\n",
       "      <th>CRSArrTime</th>\n",
       "      <th>ArrTimeBlk</th>\n",
       "      <th>CRSElapsedTime</th>\n",
       "      <th>Distance</th>\n",
       "      <th>DistanceGroup</th>\n",
       "      <th>AptPreviousDateDelay</th>\n",
       "      <th>AptNoOfFlight</th>\n",
       "      <th>tmpf</th>\n",
       "      <th>dwpf</th>\n",
       "      <th>relh</th>\n",
       "      <th>drct</th>\n",
       "      <th>sknt</th>\n",
       "      <th>p01i</th>\n",
       "      <th>alti</th>\n",
       "      <th>vsby</th>\n",
       "      <th>gust</th>\n",
       "      <th>skyc1</th>\n",
       "      <th>skyc2</th>\n",
       "      <th>skyc3</th>\n",
       "      <th>skyc4</th>\n",
       "      <th>skyl1</th>\n",
       "      <th>skyl2</th>\n",
       "      <th>skyl3</th>\n",
       "      <th>skyl4</th>\n",
       "      <th>presentwx</th>\n",
       "      <th>IsDelay</th>\n",
       "    </tr>\n",
       "  </thead>\n",
       "  <tbody>\n",
       "    <tr>\n",
       "      <th>0</th>\n",
       "      <td>8381</td>\n",
       "      <td>2017</td>\n",
       "      <td>2</td>\n",
       "      <td>4</td>\n",
       "      <td>2</td>\n",
       "      <td>7</td>\n",
       "      <td>OO</td>\n",
       "      <td>ORD</td>\n",
       "      <td>IL</td>\n",
       "      <td>41</td>\n",
       "      <td>MBS</td>\n",
       "      <td>MI</td>\n",
       "      <td>43</td>\n",
       "      <td>13</td>\n",
       "      <td>1300-1359</td>\n",
       "      <td>15</td>\n",
       "      <td>1500-1559</td>\n",
       "      <td>72.0</td>\n",
       "      <td>222.0</td>\n",
       "      <td>1</td>\n",
       "      <td>85.0</td>\n",
       "      <td>715.0</td>\n",
       "      <td>57.9</td>\n",
       "      <td>34.0</td>\n",
       "      <td>40.43</td>\n",
       "      <td>140.0</td>\n",
       "      <td>10.0</td>\n",
       "      <td>0.0</td>\n",
       "      <td>30.06</td>\n",
       "      <td>10.0</td>\n",
       "      <td>0.0</td>\n",
       "      <td>BKN</td>\n",
       "      <td>BKN</td>\n",
       "      <td>OVC</td>\n",
       "      <td>M</td>\n",
       "      <td>8500.0</td>\n",
       "      <td>16000.0</td>\n",
       "      <td>25000.0</td>\n",
       "      <td>-1.0</td>\n",
       "      <td>M</td>\n",
       "      <td>0</td>\n",
       "    </tr>\n",
       "    <tr>\n",
       "      <th>1</th>\n",
       "      <td>8382</td>\n",
       "      <td>2017</td>\n",
       "      <td>2</td>\n",
       "      <td>4</td>\n",
       "      <td>2</td>\n",
       "      <td>7</td>\n",
       "      <td>AA</td>\n",
       "      <td>PHX</td>\n",
       "      <td>AZ</td>\n",
       "      <td>81</td>\n",
       "      <td>SEA</td>\n",
       "      <td>WA</td>\n",
       "      <td>93</td>\n",
       "      <td>22</td>\n",
       "      <td>2200-2259</td>\n",
       "      <td>1</td>\n",
       "      <td>0001-0559</td>\n",
       "      <td>188.0</td>\n",
       "      <td>1107.0</td>\n",
       "      <td>5</td>\n",
       "      <td>56.0</td>\n",
       "      <td>478.0</td>\n",
       "      <td>73.9</td>\n",
       "      <td>32.0</td>\n",
       "      <td>21.40</td>\n",
       "      <td>250.0</td>\n",
       "      <td>4.0</td>\n",
       "      <td>0.0</td>\n",
       "      <td>29.83</td>\n",
       "      <td>10.0</td>\n",
       "      <td>0.0</td>\n",
       "      <td>CLR</td>\n",
       "      <td>M</td>\n",
       "      <td>M</td>\n",
       "      <td>M</td>\n",
       "      <td>-1.0</td>\n",
       "      <td>-1.0</td>\n",
       "      <td>-1.0</td>\n",
       "      <td>-1.0</td>\n",
       "      <td>M</td>\n",
       "      <td>0</td>\n",
       "    </tr>\n",
       "    <tr>\n",
       "      <th>2</th>\n",
       "      <td>8383</td>\n",
       "      <td>2017</td>\n",
       "      <td>2</td>\n",
       "      <td>4</td>\n",
       "      <td>2</td>\n",
       "      <td>7</td>\n",
       "      <td>WN</td>\n",
       "      <td>MSP</td>\n",
       "      <td>MN</td>\n",
       "      <td>63</td>\n",
       "      <td>BWI</td>\n",
       "      <td>MD</td>\n",
       "      <td>35</td>\n",
       "      <td>6</td>\n",
       "      <td>0600-0659</td>\n",
       "      <td>10</td>\n",
       "      <td>1000-1059</td>\n",
       "      <td>140.0</td>\n",
       "      <td>936.0</td>\n",
       "      <td>4</td>\n",
       "      <td>22.0</td>\n",
       "      <td>378.0</td>\n",
       "      <td>45.0</td>\n",
       "      <td>34.0</td>\n",
       "      <td>65.13</td>\n",
       "      <td>180.0</td>\n",
       "      <td>5.0</td>\n",
       "      <td>0.0</td>\n",
       "      <td>30.05</td>\n",
       "      <td>10.0</td>\n",
       "      <td>0.0</td>\n",
       "      <td>BKN</td>\n",
       "      <td>M</td>\n",
       "      <td>M</td>\n",
       "      <td>M</td>\n",
       "      <td>10000.0</td>\n",
       "      <td>-1.0</td>\n",
       "      <td>-1.0</td>\n",
       "      <td>-1.0</td>\n",
       "      <td>M</td>\n",
       "      <td>0</td>\n",
       "    </tr>\n",
       "    <tr>\n",
       "      <th>3</th>\n",
       "      <td>8384</td>\n",
       "      <td>2017</td>\n",
       "      <td>2</td>\n",
       "      <td>4</td>\n",
       "      <td>2</td>\n",
       "      <td>7</td>\n",
       "      <td>OO</td>\n",
       "      <td>DEN</td>\n",
       "      <td>CO</td>\n",
       "      <td>82</td>\n",
       "      <td>FCA</td>\n",
       "      <td>MT</td>\n",
       "      <td>84</td>\n",
       "      <td>11</td>\n",
       "      <td>1100-1159</td>\n",
       "      <td>13</td>\n",
       "      <td>1300-1359</td>\n",
       "      <td>138.0</td>\n",
       "      <td>752.0</td>\n",
       "      <td>4</td>\n",
       "      <td>91.0</td>\n",
       "      <td>603.0</td>\n",
       "      <td>57.0</td>\n",
       "      <td>28.0</td>\n",
       "      <td>32.75</td>\n",
       "      <td>-1.0</td>\n",
       "      <td>4.0</td>\n",
       "      <td>0.0</td>\n",
       "      <td>29.87</td>\n",
       "      <td>10.0</td>\n",
       "      <td>0.0</td>\n",
       "      <td>FEW</td>\n",
       "      <td>FEW</td>\n",
       "      <td>M</td>\n",
       "      <td>M</td>\n",
       "      <td>7000.0</td>\n",
       "      <td>22000.0</td>\n",
       "      <td>-1.0</td>\n",
       "      <td>-1.0</td>\n",
       "      <td>M</td>\n",
       "      <td>0</td>\n",
       "    </tr>\n",
       "    <tr>\n",
       "      <th>4</th>\n",
       "      <td>8385</td>\n",
       "      <td>2017</td>\n",
       "      <td>2</td>\n",
       "      <td>4</td>\n",
       "      <td>2</td>\n",
       "      <td>7</td>\n",
       "      <td>OO</td>\n",
       "      <td>ATL</td>\n",
       "      <td>GA</td>\n",
       "      <td>34</td>\n",
       "      <td>ORD</td>\n",
       "      <td>IL</td>\n",
       "      <td>41</td>\n",
       "      <td>18</td>\n",
       "      <td>1800-1859</td>\n",
       "      <td>19</td>\n",
       "      <td>1900-1959</td>\n",
       "      <td>127.0</td>\n",
       "      <td>606.0</td>\n",
       "      <td>3</td>\n",
       "      <td>70.0</td>\n",
       "      <td>1051.0</td>\n",
       "      <td>81.0</td>\n",
       "      <td>45.0</td>\n",
       "      <td>28.15</td>\n",
       "      <td>140.0</td>\n",
       "      <td>6.0</td>\n",
       "      <td>0.0</td>\n",
       "      <td>29.97</td>\n",
       "      <td>10.0</td>\n",
       "      <td>0.0</td>\n",
       "      <td>BKN</td>\n",
       "      <td>BKN</td>\n",
       "      <td>M</td>\n",
       "      <td>M</td>\n",
       "      <td>20000.0</td>\n",
       "      <td>25000.0</td>\n",
       "      <td>-1.0</td>\n",
       "      <td>-1.0</td>\n",
       "      <td>M</td>\n",
       "      <td>0</td>\n",
       "    </tr>\n",
       "  </tbody>\n",
       "</table>\n",
       "</div>"
      ],
      "text/plain": [
       "   Unnamed: 0  Year  Quarter  Month  DayofMonth  DayOfWeek Carrier Origin  \\\n",
       "0        8381  2017        2      4           2          7      OO    ORD   \n",
       "1        8382  2017        2      4           2          7      AA    PHX   \n",
       "2        8383  2017        2      4           2          7      WN    MSP   \n",
       "3        8384  2017        2      4           2          7      OO    DEN   \n",
       "4        8385  2017        2      4           2          7      OO    ATL   \n",
       "\n",
       "  OriginState  OriginWac Dest DestState  DestWac  CRSDepTime DepTimeBlk  \\\n",
       "0          IL         41  MBS        MI       43          13  1300-1359   \n",
       "1          AZ         81  SEA        WA       93          22  2200-2259   \n",
       "2          MN         63  BWI        MD       35           6  0600-0659   \n",
       "3          CO         82  FCA        MT       84          11  1100-1159   \n",
       "4          GA         34  ORD        IL       41          18  1800-1859   \n",
       "\n",
       "   CRSArrTime ArrTimeBlk  CRSElapsedTime  Distance  DistanceGroup  \\\n",
       "0          15  1500-1559            72.0     222.0              1   \n",
       "1           1  0001-0559           188.0    1107.0              5   \n",
       "2          10  1000-1059           140.0     936.0              4   \n",
       "3          13  1300-1359           138.0     752.0              4   \n",
       "4          19  1900-1959           127.0     606.0              3   \n",
       "\n",
       "   AptPreviousDateDelay  AptNoOfFlight  tmpf   dwpf   relh   drct   sknt  \\\n",
       "0                  85.0          715.0  57.9   34.0  40.43  140.0   10.0   \n",
       "1                  56.0          478.0  73.9   32.0  21.40  250.0    4.0   \n",
       "2                  22.0          378.0  45.0   34.0  65.13  180.0    5.0   \n",
       "3                  91.0          603.0  57.0   28.0  32.75   -1.0    4.0   \n",
       "4                  70.0         1051.0  81.0   45.0  28.15  140.0    6.0   \n",
       "\n",
       "    p01i   alti   vsby   gust  skyc1  skyc2  skyc3  skyc4    skyl1    skyl2  \\\n",
       "0    0.0  30.06   10.0    0.0    BKN    BKN    OVC      M   8500.0  16000.0   \n",
       "1    0.0  29.83   10.0    0.0    CLR      M      M      M     -1.0     -1.0   \n",
       "2    0.0  30.05   10.0    0.0    BKN      M      M      M  10000.0     -1.0   \n",
       "3    0.0  29.87   10.0    0.0    FEW    FEW      M      M   7000.0  22000.0   \n",
       "4    0.0  29.97   10.0    0.0    BKN    BKN      M      M  20000.0  25000.0   \n",
       "\n",
       "     skyl3   skyl4  presentwx  IsDelay  \n",
       "0  25000.0    -1.0          M        0  \n",
       "1     -1.0    -1.0          M        0  \n",
       "2     -1.0    -1.0          M        0  \n",
       "3     -1.0    -1.0          M        0  \n",
       "4     -1.0    -1.0          M        0  "
      ]
     },
     "execution_count": 70,
     "metadata": {},
     "output_type": "execute_result"
    }
   ],
   "source": [
    "df.head()"
   ]
  },
  {
   "cell_type": "code",
   "execution_count": 71,
   "metadata": {
    "collapsed": true
   },
   "outputs": [],
   "source": [
    "df = df.drop('Unnamed: 0', axis=1)"
   ]
  },
  {
   "cell_type": "code",
   "execution_count": null,
   "metadata": {
    "collapsed": true
   },
   "outputs": [],
   "source": []
  },
  {
   "cell_type": "code",
   "execution_count": 72,
   "metadata": {},
   "outputs": [
    {
     "name": "stdout",
     "output_type": "stream",
     "text": [
      "<class 'pandas.core.frame.DataFrame'>\n",
      "RangeIndex: 784754 entries, 0 to 784753\n",
      "Data columns (total 40 columns):\n",
      "Year                    784754 non-null int64\n",
      "Quarter                 784754 non-null int64\n",
      "Month                   784754 non-null int64\n",
      "DayofMonth              784754 non-null int64\n",
      "DayOfWeek               784754 non-null int64\n",
      "Carrier                 784754 non-null object\n",
      "Origin                  784754 non-null object\n",
      "OriginState             784754 non-null object\n",
      "OriginWac               784754 non-null int64\n",
      "Dest                    784754 non-null object\n",
      "DestState               784754 non-null object\n",
      "DestWac                 784754 non-null int64\n",
      "CRSDepTime              784754 non-null int64\n",
      "DepTimeBlk              784754 non-null object\n",
      "CRSArrTime              784754 non-null int64\n",
      "ArrTimeBlk              784754 non-null object\n",
      "CRSElapsedTime          784754 non-null float64\n",
      "Distance                784754 non-null float64\n",
      "DistanceGroup           784754 non-null int64\n",
      "AptPreviousDateDelay    784754 non-null float64\n",
      "AptNoOfFlight           784754 non-null float64\n",
      "tmpf                    784754 non-null float64\n",
      " dwpf                   784754 non-null float64\n",
      " relh                   784754 non-null float64\n",
      " drct                   784754 non-null float64\n",
      " sknt                   784754 non-null float64\n",
      " p01i                   784754 non-null float64\n",
      " alti                   784754 non-null float64\n",
      " vsby                   784754 non-null float64\n",
      " gust                   784754 non-null float64\n",
      " skyc1                  784754 non-null object\n",
      " skyc2                  784754 non-null object\n",
      " skyc3                  784754 non-null object\n",
      " skyc4                  784754 non-null object\n",
      " skyl1                  784754 non-null float64\n",
      " skyl2                  784754 non-null float64\n",
      " skyl3                  784754 non-null float64\n",
      " skyl4                  784754 non-null float64\n",
      " presentwx              784754 non-null object\n",
      "IsDelay                 784754 non-null int64\n",
      "dtypes: float64(17), int64(11), object(12)\n",
      "memory usage: 239.5+ MB\n"
     ]
    }
   ],
   "source": [
    "df.info()"
   ]
  },
  {
   "cell_type": "code",
   "execution_count": 73,
   "metadata": {
    "collapsed": true
   },
   "outputs": [],
   "source": [
    "numeric_list = ['Year','Quarter','Month','DayofMonth','DayOfWeek','OriginWac','DestWac','CRSDepTime','CRSArrTime','CRSElapsedTime','Distance','DistanceGroup','AptPreviousDateDelay','AptNoOfFlight','tmpf',' dwpf',' relh',' drct',' sknt',' p01i',' alti',' gust',' skyl1',' skyl2',' skyl3',' skyl4','IsDelay']\n",
    "cat_list = ['Carrier','Origin','OriginState','Dest','DestState','DepTimeBlk','ArrTimeBlk',' skyc1',' skyc2',' skyc3',' skyc4',' presentwx']"
   ]
  },
  {
   "cell_type": "markdown",
   "metadata": {},
   "source": [
    "### Converting string to numeric in all categorical columns"
   ]
  },
  {
   "cell_type": "code",
   "execution_count": 74,
   "metadata": {
    "collapsed": true
   },
   "outputs": [],
   "source": [
    "from sklearn.preprocessing import LabelEncoder\n",
    "le = LabelEncoder()\n",
    "tmp = df[cat_list].apply(le.fit_transform)"
   ]
  },
  {
   "cell_type": "code",
   "execution_count": 75,
   "metadata": {
    "collapsed": true
   },
   "outputs": [],
   "source": [
    "df.drop(cat_list, axis=1, inplace=True)\n",
    "df = pd.concat([df, tmp], axis=1)"
   ]
  },
  {
   "cell_type": "code",
   "execution_count": 76,
   "metadata": {},
   "outputs": [
    {
     "name": "stdout",
     "output_type": "stream",
     "text": [
      "<class 'pandas.core.frame.DataFrame'>\n",
      "RangeIndex: 784754 entries, 0 to 784753\n",
      "Data columns (total 40 columns):\n",
      "Year                    784754 non-null int64\n",
      "Quarter                 784754 non-null int64\n",
      "Month                   784754 non-null int64\n",
      "DayofMonth              784754 non-null int64\n",
      "DayOfWeek               784754 non-null int64\n",
      "OriginWac               784754 non-null int64\n",
      "DestWac                 784754 non-null int64\n",
      "CRSDepTime              784754 non-null int64\n",
      "CRSArrTime              784754 non-null int64\n",
      "CRSElapsedTime          784754 non-null float64\n",
      "Distance                784754 non-null float64\n",
      "DistanceGroup           784754 non-null int64\n",
      "AptPreviousDateDelay    784754 non-null float64\n",
      "AptNoOfFlight           784754 non-null float64\n",
      "tmpf                    784754 non-null float64\n",
      " dwpf                   784754 non-null float64\n",
      " relh                   784754 non-null float64\n",
      " drct                   784754 non-null float64\n",
      " sknt                   784754 non-null float64\n",
      " p01i                   784754 non-null float64\n",
      " alti                   784754 non-null float64\n",
      " vsby                   784754 non-null float64\n",
      " gust                   784754 non-null float64\n",
      " skyl1                  784754 non-null float64\n",
      " skyl2                  784754 non-null float64\n",
      " skyl3                  784754 non-null float64\n",
      " skyl4                  784754 non-null float64\n",
      "IsDelay                 784754 non-null int64\n",
      "Carrier                 784754 non-null int64\n",
      "Origin                  784754 non-null int64\n",
      "OriginState             784754 non-null int64\n",
      "Dest                    784754 non-null int64\n",
      "DestState               784754 non-null int64\n",
      "DepTimeBlk              784754 non-null int64\n",
      "ArrTimeBlk              784754 non-null int64\n",
      " skyc1                  784754 non-null int64\n",
      " skyc2                  784754 non-null int64\n",
      " skyc3                  784754 non-null int64\n",
      " skyc4                  784754 non-null int64\n",
      " presentwx              784754 non-null int64\n",
      "dtypes: float64(17), int64(23)\n",
      "memory usage: 239.5 MB\n"
     ]
    }
   ],
   "source": [
    "df.info()"
   ]
  },
  {
   "cell_type": "code",
   "execution_count": 77,
   "metadata": {},
   "outputs": [
    {
     "data": {
      "text/html": [
       "<div>\n",
       "<style>\n",
       "    .dataframe thead tr:only-child th {\n",
       "        text-align: right;\n",
       "    }\n",
       "\n",
       "    .dataframe thead th {\n",
       "        text-align: left;\n",
       "    }\n",
       "\n",
       "    .dataframe tbody tr th {\n",
       "        vertical-align: top;\n",
       "    }\n",
       "</style>\n",
       "<table border=\"1\" class=\"dataframe\">\n",
       "  <thead>\n",
       "    <tr style=\"text-align: right;\">\n",
       "      <th></th>\n",
       "      <th>Year</th>\n",
       "      <th>Quarter</th>\n",
       "      <th>Month</th>\n",
       "      <th>DayofMonth</th>\n",
       "      <th>DayOfWeek</th>\n",
       "      <th>OriginWac</th>\n",
       "      <th>DestWac</th>\n",
       "      <th>CRSDepTime</th>\n",
       "      <th>CRSArrTime</th>\n",
       "      <th>CRSElapsedTime</th>\n",
       "      <th>Distance</th>\n",
       "      <th>DistanceGroup</th>\n",
       "      <th>AptPreviousDateDelay</th>\n",
       "      <th>AptNoOfFlight</th>\n",
       "      <th>tmpf</th>\n",
       "      <th>dwpf</th>\n",
       "      <th>relh</th>\n",
       "      <th>drct</th>\n",
       "      <th>sknt</th>\n",
       "      <th>p01i</th>\n",
       "      <th>alti</th>\n",
       "      <th>vsby</th>\n",
       "      <th>gust</th>\n",
       "      <th>skyl1</th>\n",
       "      <th>skyl2</th>\n",
       "      <th>skyl3</th>\n",
       "      <th>skyl4</th>\n",
       "      <th>IsDelay</th>\n",
       "      <th>Carrier</th>\n",
       "      <th>Origin</th>\n",
       "      <th>OriginState</th>\n",
       "      <th>Dest</th>\n",
       "      <th>DestState</th>\n",
       "      <th>DepTimeBlk</th>\n",
       "      <th>ArrTimeBlk</th>\n",
       "      <th>skyc1</th>\n",
       "      <th>skyc2</th>\n",
       "      <th>skyc3</th>\n",
       "      <th>skyc4</th>\n",
       "      <th>presentwx</th>\n",
       "    </tr>\n",
       "  </thead>\n",
       "  <tbody>\n",
       "    <tr>\n",
       "      <th>0</th>\n",
       "      <td>2017</td>\n",
       "      <td>2</td>\n",
       "      <td>4</td>\n",
       "      <td>2</td>\n",
       "      <td>7</td>\n",
       "      <td>41</td>\n",
       "      <td>43</td>\n",
       "      <td>13</td>\n",
       "      <td>15</td>\n",
       "      <td>72.0</td>\n",
       "      <td>222.0</td>\n",
       "      <td>1</td>\n",
       "      <td>85.0</td>\n",
       "      <td>715.0</td>\n",
       "      <td>57.9</td>\n",
       "      <td>34.0</td>\n",
       "      <td>40.43</td>\n",
       "      <td>140.0</td>\n",
       "      <td>10.0</td>\n",
       "      <td>0.0</td>\n",
       "      <td>30.06</td>\n",
       "      <td>10.0</td>\n",
       "      <td>0.0</td>\n",
       "      <td>8500.0</td>\n",
       "      <td>16000.0</td>\n",
       "      <td>25000.0</td>\n",
       "      <td>-1.0</td>\n",
       "      <td>0</td>\n",
       "      <td>8</td>\n",
       "      <td>15</td>\n",
       "      <td>5</td>\n",
       "      <td>172</td>\n",
       "      <td>20</td>\n",
       "      <td>8</td>\n",
       "      <td>10</td>\n",
       "      <td>0</td>\n",
       "      <td>0</td>\n",
       "      <td>3</td>\n",
       "      <td>2</td>\n",
       "      <td>39</td>\n",
       "    </tr>\n",
       "    <tr>\n",
       "      <th>1</th>\n",
       "      <td>2017</td>\n",
       "      <td>2</td>\n",
       "      <td>4</td>\n",
       "      <td>2</td>\n",
       "      <td>7</td>\n",
       "      <td>81</td>\n",
       "      <td>93</td>\n",
       "      <td>22</td>\n",
       "      <td>1</td>\n",
       "      <td>188.0</td>\n",
       "      <td>1107.0</td>\n",
       "      <td>5</td>\n",
       "      <td>56.0</td>\n",
       "      <td>478.0</td>\n",
       "      <td>73.9</td>\n",
       "      <td>32.0</td>\n",
       "      <td>21.40</td>\n",
       "      <td>250.0</td>\n",
       "      <td>4.0</td>\n",
       "      <td>0.0</td>\n",
       "      <td>29.83</td>\n",
       "      <td>10.0</td>\n",
       "      <td>0.0</td>\n",
       "      <td>-1.0</td>\n",
       "      <td>-1.0</td>\n",
       "      <td>-1.0</td>\n",
       "      <td>-1.0</td>\n",
       "      <td>0</td>\n",
       "      <td>0</td>\n",
       "      <td>16</td>\n",
       "      <td>0</td>\n",
       "      <td>253</td>\n",
       "      <td>47</td>\n",
       "      <td>17</td>\n",
       "      <td>0</td>\n",
       "      <td>1</td>\n",
       "      <td>2</td>\n",
       "      <td>2</td>\n",
       "      <td>2</td>\n",
       "      <td>39</td>\n",
       "    </tr>\n",
       "    <tr>\n",
       "      <th>2</th>\n",
       "      <td>2017</td>\n",
       "      <td>2</td>\n",
       "      <td>4</td>\n",
       "      <td>2</td>\n",
       "      <td>7</td>\n",
       "      <td>63</td>\n",
       "      <td>35</td>\n",
       "      <td>6</td>\n",
       "      <td>10</td>\n",
       "      <td>140.0</td>\n",
       "      <td>936.0</td>\n",
       "      <td>4</td>\n",
       "      <td>22.0</td>\n",
       "      <td>378.0</td>\n",
       "      <td>45.0</td>\n",
       "      <td>34.0</td>\n",
       "      <td>65.13</td>\n",
       "      <td>180.0</td>\n",
       "      <td>5.0</td>\n",
       "      <td>0.0</td>\n",
       "      <td>30.05</td>\n",
       "      <td>10.0</td>\n",
       "      <td>0.0</td>\n",
       "      <td>10000.0</td>\n",
       "      <td>-1.0</td>\n",
       "      <td>-1.0</td>\n",
       "      <td>-1.0</td>\n",
       "      <td>0</td>\n",
       "      <td>11</td>\n",
       "      <td>14</td>\n",
       "      <td>9</td>\n",
       "      <td>44</td>\n",
       "      <td>18</td>\n",
       "      <td>1</td>\n",
       "      <td>5</td>\n",
       "      <td>0</td>\n",
       "      <td>2</td>\n",
       "      <td>2</td>\n",
       "      <td>2</td>\n",
       "      <td>39</td>\n",
       "    </tr>\n",
       "    <tr>\n",
       "      <th>3</th>\n",
       "      <td>2017</td>\n",
       "      <td>2</td>\n",
       "      <td>4</td>\n",
       "      <td>2</td>\n",
       "      <td>7</td>\n",
       "      <td>82</td>\n",
       "      <td>84</td>\n",
       "      <td>11</td>\n",
       "      <td>13</td>\n",
       "      <td>138.0</td>\n",
       "      <td>752.0</td>\n",
       "      <td>4</td>\n",
       "      <td>91.0</td>\n",
       "      <td>603.0</td>\n",
       "      <td>57.0</td>\n",
       "      <td>28.0</td>\n",
       "      <td>32.75</td>\n",
       "      <td>-1.0</td>\n",
       "      <td>4.0</td>\n",
       "      <td>0.0</td>\n",
       "      <td>29.87</td>\n",
       "      <td>10.0</td>\n",
       "      <td>0.0</td>\n",
       "      <td>7000.0</td>\n",
       "      <td>22000.0</td>\n",
       "      <td>-1.0</td>\n",
       "      <td>-1.0</td>\n",
       "      <td>0</td>\n",
       "      <td>8</td>\n",
       "      <td>4</td>\n",
       "      <td>2</td>\n",
       "      <td>96</td>\n",
       "      <td>24</td>\n",
       "      <td>6</td>\n",
       "      <td>8</td>\n",
       "      <td>2</td>\n",
       "      <td>1</td>\n",
       "      <td>2</td>\n",
       "      <td>2</td>\n",
       "      <td>39</td>\n",
       "    </tr>\n",
       "    <tr>\n",
       "      <th>4</th>\n",
       "      <td>2017</td>\n",
       "      <td>2</td>\n",
       "      <td>4</td>\n",
       "      <td>2</td>\n",
       "      <td>7</td>\n",
       "      <td>34</td>\n",
       "      <td>41</td>\n",
       "      <td>18</td>\n",
       "      <td>19</td>\n",
       "      <td>127.0</td>\n",
       "      <td>606.0</td>\n",
       "      <td>3</td>\n",
       "      <td>70.0</td>\n",
       "      <td>1051.0</td>\n",
       "      <td>81.0</td>\n",
       "      <td>45.0</td>\n",
       "      <td>28.15</td>\n",
       "      <td>140.0</td>\n",
       "      <td>6.0</td>\n",
       "      <td>0.0</td>\n",
       "      <td>29.97</td>\n",
       "      <td>10.0</td>\n",
       "      <td>0.0</td>\n",
       "      <td>20000.0</td>\n",
       "      <td>25000.0</td>\n",
       "      <td>-1.0</td>\n",
       "      <td>-1.0</td>\n",
       "      <td>0</td>\n",
       "      <td>8</td>\n",
       "      <td>0</td>\n",
       "      <td>4</td>\n",
       "      <td>208</td>\n",
       "      <td>12</td>\n",
       "      <td>13</td>\n",
       "      <td>14</td>\n",
       "      <td>0</td>\n",
       "      <td>0</td>\n",
       "      <td>2</td>\n",
       "      <td>2</td>\n",
       "      <td>39</td>\n",
       "    </tr>\n",
       "  </tbody>\n",
       "</table>\n",
       "</div>"
      ],
      "text/plain": [
       "   Year  Quarter  Month  DayofMonth  DayOfWeek  OriginWac  DestWac  \\\n",
       "0  2017        2      4           2          7         41       43   \n",
       "1  2017        2      4           2          7         81       93   \n",
       "2  2017        2      4           2          7         63       35   \n",
       "3  2017        2      4           2          7         82       84   \n",
       "4  2017        2      4           2          7         34       41   \n",
       "\n",
       "   CRSDepTime  CRSArrTime  CRSElapsedTime  Distance  DistanceGroup  \\\n",
       "0          13          15            72.0     222.0              1   \n",
       "1          22           1           188.0    1107.0              5   \n",
       "2           6          10           140.0     936.0              4   \n",
       "3          11          13           138.0     752.0              4   \n",
       "4          18          19           127.0     606.0              3   \n",
       "\n",
       "   AptPreviousDateDelay  AptNoOfFlight  tmpf   dwpf   relh   drct   sknt  \\\n",
       "0                  85.0          715.0  57.9   34.0  40.43  140.0   10.0   \n",
       "1                  56.0          478.0  73.9   32.0  21.40  250.0    4.0   \n",
       "2                  22.0          378.0  45.0   34.0  65.13  180.0    5.0   \n",
       "3                  91.0          603.0  57.0   28.0  32.75   -1.0    4.0   \n",
       "4                  70.0         1051.0  81.0   45.0  28.15  140.0    6.0   \n",
       "\n",
       "    p01i   alti   vsby   gust    skyl1    skyl2    skyl3   skyl4  IsDelay  \\\n",
       "0    0.0  30.06   10.0    0.0   8500.0  16000.0  25000.0    -1.0        0   \n",
       "1    0.0  29.83   10.0    0.0     -1.0     -1.0     -1.0    -1.0        0   \n",
       "2    0.0  30.05   10.0    0.0  10000.0     -1.0     -1.0    -1.0        0   \n",
       "3    0.0  29.87   10.0    0.0   7000.0  22000.0     -1.0    -1.0        0   \n",
       "4    0.0  29.97   10.0    0.0  20000.0  25000.0     -1.0    -1.0        0   \n",
       "\n",
       "   Carrier  Origin  OriginState  Dest  DestState  DepTimeBlk  ArrTimeBlk  \\\n",
       "0        8      15            5   172         20           8          10   \n",
       "1        0      16            0   253         47          17           0   \n",
       "2       11      14            9    44         18           1           5   \n",
       "3        8       4            2    96         24           6           8   \n",
       "4        8       0            4   208         12          13          14   \n",
       "\n",
       "    skyc1   skyc2   skyc3   skyc4   presentwx  \n",
       "0       0       0       3       2          39  \n",
       "1       1       2       2       2          39  \n",
       "2       0       2       2       2          39  \n",
       "3       2       1       2       2          39  \n",
       "4       0       0       2       2          39  "
      ]
     },
     "execution_count": 77,
     "metadata": {},
     "output_type": "execute_result"
    }
   ],
   "source": [
    "df.head()"
   ]
  },
  {
   "cell_type": "code",
   "execution_count": 78,
   "metadata": {},
   "outputs": [
    {
     "name": "stdout",
     "output_type": "stream",
     "text": [
      "<class 'pandas.core.frame.DataFrame'>\n",
      "RangeIndex: 784754 entries, 0 to 784753\n",
      "Data columns (total 40 columns):\n",
      "Year                    784754 non-null int64\n",
      "Quarter                 784754 non-null int64\n",
      "Month                   784754 non-null int64\n",
      "DayofMonth              784754 non-null int64\n",
      "DayOfWeek               784754 non-null int64\n",
      "OriginWac               784754 non-null int64\n",
      "DestWac                 784754 non-null int64\n",
      "CRSDepTime              784754 non-null int64\n",
      "CRSArrTime              784754 non-null int64\n",
      "CRSElapsedTime          784754 non-null float64\n",
      "Distance                784754 non-null float64\n",
      "DistanceGroup           784754 non-null int64\n",
      "AptPreviousDateDelay    784754 non-null float64\n",
      "AptNoOfFlight           784754 non-null float64\n",
      "tmpf                    784754 non-null float64\n",
      " dwpf                   784754 non-null float64\n",
      " relh                   784754 non-null float64\n",
      " drct                   784754 non-null float64\n",
      " sknt                   784754 non-null float64\n",
      " p01i                   784754 non-null float64\n",
      " alti                   784754 non-null float64\n",
      " vsby                   784754 non-null float64\n",
      " gust                   784754 non-null float64\n",
      " skyl1                  784754 non-null float64\n",
      " skyl2                  784754 non-null float64\n",
      " skyl3                  784754 non-null float64\n",
      " skyl4                  784754 non-null float64\n",
      "Carrier                 784754 non-null int64\n",
      "Origin                  784754 non-null int64\n",
      "OriginState             784754 non-null int64\n",
      "Dest                    784754 non-null int64\n",
      "DestState               784754 non-null int64\n",
      "DepTimeBlk              784754 non-null int64\n",
      "ArrTimeBlk              784754 non-null int64\n",
      " skyc1                  784754 non-null int64\n",
      " skyc2                  784754 non-null int64\n",
      " skyc3                  784754 non-null int64\n",
      " skyc4                  784754 non-null int64\n",
      " presentwx              784754 non-null int64\n",
      "IsDelay                 784754 non-null int64\n",
      "dtypes: float64(17), int64(23)\n",
      "memory usage: 239.5 MB\n"
     ]
    }
   ],
   "source": [
    "#Move IsDelay column which will be the target column to the back\n",
    "\n",
    "cols = list(df.columns.values) #Make a list of all of the columns in the df\n",
    "cols.pop(cols.index('IsDelay')) #Remove IsDelay from list\n",
    "df = df[cols+['IsDelay']]\n",
    "\n",
    "df.info()"
   ]
  },
  {
   "cell_type": "code",
   "execution_count": null,
   "metadata": {
    "collapsed": true
   },
   "outputs": [],
   "source": []
  },
  {
   "cell_type": "code",
   "execution_count": 79,
   "metadata": {},
   "outputs": [
    {
     "data": {
      "text/plain": [
       "39"
      ]
     },
     "execution_count": 79,
     "metadata": {},
     "output_type": "execute_result"
    }
   ],
   "source": [
    "df.columns.get_loc('IsDelay')"
   ]
  },
  {
   "cell_type": "markdown",
   "metadata": {},
   "source": [
    "## Model selection\n"
   ]
  },
  {
   "cell_type": "code",
   "execution_count": 80,
   "metadata": {
    "collapsed": true
   },
   "outputs": [],
   "source": [
    "#Split Train and Test dataset\n",
    "\n",
    "from sklearn.model_selection import train_test_split\n",
    "\n",
    "X, y = df[['Year', 'Quarter', 'Month', 'DayofMonth', 'DayOfWeek', 'OriginWac',\n",
    "       'DestWac', 'CRSDepTime', 'CRSArrTime', 'CRSElapsedTime', 'Distance',\n",
    "       'DistanceGroup', 'AptPreviousDateDelay', 'AptNoOfFlight', 'tmpf',\n",
    "       ' dwpf', ' relh', ' drct', ' sknt', ' p01i', ' alti', ' vsby', ' gust',\n",
    "       ' skyl1', ' skyl2', ' skyl3', ' skyl4', 'Carrier', 'Origin',\n",
    "       'OriginState', 'Dest', 'DestState', 'DepTimeBlk', 'ArrTimeBlk',\n",
    "       ' skyc1', ' skyc2', ' skyc3', ' skyc4', ' presentwx']], df['IsDelay']"
   ]
  },
  {
   "cell_type": "markdown",
   "metadata": {},
   "source": [
    "Downsizing the dataset to 10% to save computer time"
   ]
  },
  {
   "cell_type": "code",
   "execution_count": 107,
   "metadata": {
    "collapsed": true
   },
   "outputs": [],
   "source": [
    "from sklearn.model_selection import StratifiedShuffleSplit\n",
    "\n",
    "sss = StratifiedShuffleSplit(n_splits=1, test_size=0.9, random_state=50)\n",
    "for keep_index, leave_index in sss.split(X, y):\n",
    "    X_keep, X_leave = X.iloc[keep_index], X.iloc[leave_index]\n",
    "    y_keep, y_leave = y.iloc[keep_index], y.iloc[leave_index]"
   ]
  },
  {
   "cell_type": "markdown",
   "metadata": {},
   "source": [
    "Split the train and test set"
   ]
  },
  {
   "cell_type": "code",
   "execution_count": 108,
   "metadata": {
    "collapsed": true
   },
   "outputs": [],
   "source": [
    "sss1 = StratifiedShuffleSplit(n_splits=1, test_size=0.3, random_state=60)\n",
    "for train_index, test_index in sss1.split(X_keep, y_keep):\n",
    "    X_train, X_test = X_keep.iloc[train_index], X_keep.iloc[test_index]\n",
    "    y_train, y_test = y_keep.iloc[train_index], y_keep.iloc[test_index]"
   ]
  },
  {
   "cell_type": "code",
   "execution_count": 109,
   "metadata": {},
   "outputs": [
    {
     "data": {
      "text/plain": [
       "(54932, 39)"
      ]
     },
     "execution_count": 109,
     "metadata": {},
     "output_type": "execute_result"
    }
   ],
   "source": [
    "X_train.shape"
   ]
  },
  {
   "cell_type": "code",
   "execution_count": 110,
   "metadata": {},
   "outputs": [
    {
     "data": {
      "text/plain": [
       "(23543, 39)"
      ]
     },
     "execution_count": 110,
     "metadata": {},
     "output_type": "execute_result"
    }
   ],
   "source": [
    "X_test.shape"
   ]
  },
  {
   "cell_type": "markdown",
   "metadata": {},
   "source": [
    "### Logistic Regression"
   ]
  },
  {
   "cell_type": "code",
   "execution_count": 187,
   "metadata": {},
   "outputs": [
    {
     "name": "stdout",
     "output_type": "stream",
     "text": [
      "CPU times: user 5.57 ms, sys: 37.6 ms, total: 43.1 ms\n",
      "Wall time: 98.2 ms\n"
     ]
    }
   ],
   "source": [
    "%%time\n",
    "from sklearn.linear_model import LogisticRegression\n",
    "from sklearn.svm import LinearSVC\n",
    "from sklearn.model_selection import cross_val_score\n",
    "from sklearn.model_selection import GridSearchCV\n",
    "from sklearn.metrics import roc_auc_score\n",
    "from sklearn.metrics import make_scorer\n",
    "from sklearn.metrics import accuracy_score\n",
    "%matplotlib inline"
   ]
  },
  {
   "cell_type": "code",
   "execution_count": 189,
   "metadata": {},
   "outputs": [
    {
     "name": "stdout",
     "output_type": "stream",
     "text": [
      "Tuned Logistic Regression Parameters: {'C': 0.01}\n",
      "Best score is 0.5393563641530582\n",
      "Best estimator is LogisticRegression(C=0.01, class_weight=None, dual=False, fit_intercept=True,\n",
      "          intercept_scaling=1, max_iter=100, multi_class='ovr', n_jobs=1,\n",
      "          penalty='l2', random_state=None, solver='liblinear', tol=0.0001,\n",
      "          verbose=0, warm_start=False)\n",
      "CPU times: user 15min 35s, sys: 15.2 s, total: 15min 50s\n",
      "Wall time: 16min 23s\n"
     ]
    }
   ],
   "source": [
    "%%time\n",
    "# Setup the hyperparameter grid\n",
    "c_space = [0.001,0.01,0.1,1,10,100]\n",
    "param_grid = {'C': c_space}\n",
    "scoring = {'AUC': 'precision', 'Accuracy': make_scorer(accuracy_score)}\n",
    "\n",
    "logreg = LogisticRegression()\n",
    "\n",
    "X_train, X_test, y_train, y_test = train_test_split(X, y, test_size=0.3, stratify=y, random_state=0)\n",
    "\n",
    "# Instantiate the GridSearchCV object: logreg_cv\n",
    "logreg_cv = GridSearchCV(logreg, param_grid, cv=5, scoring=scoring, refit='AUC')\n",
    "\n",
    "# Fit it to the data\n",
    "logreg_cv.fit(X_train, y_train)\n",
    "\n",
    "# Print the tuned parameters and score\n",
    "print(\"Tuned Logistic Regression Parameters: {}\".format(logreg_cv.best_params_)) \n",
    "print(\"Best score is {}\".format(logreg_cv.best_score_))\n",
    "print(\"Best estimator is {}\".format(logreg_cv.best_estimator_))"
   ]
  },
  {
   "cell_type": "code",
   "execution_count": 190,
   "metadata": {},
   "outputs": [
    {
     "name": "stdout",
     "output_type": "stream",
     "text": [
      "AUC: 0.6636903746922667\n"
     ]
    }
   ],
   "source": [
    "logreg = LogisticRegression(penalty = 'l2', C=0.01, class_weight={0:0.3,1:0.7})\n",
    "\n",
    "logreg.fit(X_train, y_train)\n",
    "\n",
    "# Compute predicted probabilities: y_pred_prob\n",
    "y_pred_prob = logreg.predict_proba(X_test)[:,1]\n",
    "pred_logreg = logreg.predict(X_test)\n",
    "\n",
    "# Compute and print AUC score\n",
    "print(\"AUC: {}\".format(roc_auc_score(y_test, y_pred_prob)))\n",
    "\n",
    "# Compute cross-validated AUC scores: cv_auc\n",
    "#cv_auc = cross_val_score(logreg, X_train, y_train, cv=5, scoring='roc_auc')\n",
    "\n",
    "# Print list of AUC scores\n",
    "#print(\"AUC scores computed using 5-fold cross-validation: {}\".format(cv_auc))\n"
   ]
  },
  {
   "cell_type": "code",
   "execution_count": 191,
   "metadata": {},
   "outputs": [
    {
     "data": {
      "text/plain": [
       "LogisticRegression(C=0.01, class_weight=None, dual=False, fit_intercept=True,\n",
       "          intercept_scaling=1, max_iter=100, multi_class='ovr', n_jobs=1,\n",
       "          penalty='l2', random_state=None, solver='liblinear', tol=0.0001,\n",
       "          verbose=0, warm_start=False)"
      ]
     },
     "execution_count": 191,
     "metadata": {},
     "output_type": "execute_result"
    }
   ],
   "source": [
    "logreg_cv.best_estimator_"
   ]
  },
  {
   "cell_type": "markdown",
   "metadata": {},
   "source": [
    "### Metrics for prediction with Dummy Classifier"
   ]
  },
  {
   "cell_type": "code",
   "execution_count": 192,
   "metadata": {},
   "outputs": [
    {
     "name": "stdout",
     "output_type": "stream",
     "text": [
      "Unique predicted labels: [0]\n",
      "Test score: 0.78\n"
     ]
    }
   ],
   "source": [
    "from sklearn.dummy import DummyClassifier\n",
    "dummy_majority = DummyClassifier(strategy='most_frequent').fit(X_train, y_train)\n",
    "pred_most_frequent = dummy_majority.predict(X_test)\n",
    "print('Unique predicted labels: {}'.format(np.unique(pred_most_frequent)))\n",
    "print('Test score: {:.2f}'.format(dummy_majority.score(X_test, y_test)))"
   ]
  },
  {
   "cell_type": "code",
   "execution_count": 193,
   "metadata": {},
   "outputs": [
    {
     "name": "stdout",
     "output_type": "stream",
     "text": [
      "dummy score: 0.65\n",
      "             precision    recall  f1-score   support\n",
      "\n",
      "  Not Delay       0.78      0.78      0.78    182895\n",
      "      Delay       0.23      0.23      0.23     52532\n",
      "\n",
      "avg / total       0.65      0.65      0.65    235427\n",
      "\n"
     ]
    }
   ],
   "source": [
    "from sklearn.metrics import classification_report\n",
    "\n",
    "dummy = DummyClassifier().fit(X_train, y_train)\n",
    "pred_dummy = dummy.predict(X_test)\n",
    "print('dummy score: {:.2f}'.format(dummy.score(X_test, y_test)))\n",
    "\n",
    "print(classification_report(y_test, pred_dummy,\n",
    "                           target_names=['Not Delay','Delay']))"
   ]
  },
  {
   "cell_type": "markdown",
   "metadata": {},
   "source": [
    "### Confusion Matrix"
   ]
  },
  {
   "cell_type": "code",
   "execution_count": 194,
   "metadata": {},
   "outputs": [
    {
     "name": "stdout",
     "output_type": "stream",
     "text": [
      "Confusion matrix:\n",
      "[[152734  30161]\n",
      " [ 34026  18506]]\n"
     ]
    }
   ],
   "source": [
    "from sklearn.metrics import confusion_matrix\n",
    "\n",
    "confusion = confusion_matrix(y_test, pred_logreg)\n",
    "print('Confusion matrix:\\n{}'.format(confusion))"
   ]
  },
  {
   "cell_type": "markdown",
   "metadata": {},
   "source": [
    "### Metrics for prediction with Logistic Regression Model"
   ]
  },
  {
   "cell_type": "code",
   "execution_count": 195,
   "metadata": {},
   "outputs": [
    {
     "name": "stdout",
     "output_type": "stream",
     "text": [
      "             precision    recall  f1-score   support\n",
      "\n",
      "  Not Delay       0.82      0.84      0.83    182895\n",
      "      Delay       0.38      0.35      0.37     52532\n",
      "\n",
      "avg / total       0.72      0.73      0.72    235427\n",
      "\n"
     ]
    }
   ],
   "source": [
    "print(classification_report(y_test, pred_logreg,\n",
    "                           target_names=['Not Delay','Delay']))"
   ]
  },
  {
   "cell_type": "markdown",
   "metadata": {},
   "source": [
    "### Precision-Recall Curve"
   ]
  },
  {
   "cell_type": "code",
   "execution_count": 196,
   "metadata": {},
   "outputs": [
    {
     "name": "stdout",
     "output_type": "stream",
     "text": [
      "Average precision-recall score: 0.36\n"
     ]
    },
    {
     "data": {
      "image/png": "[encoded data removed]",
      "text/plain": [
       "<matplotlib.figure.Figure at 0x1160d3908>"
      ]
     },
     "metadata": {},
     "output_type": "display_data"
    }
   ],
   "source": [
    "from sklearn.metrics import average_precision_score\n",
    "average_precision = average_precision_score(y_test, y_pred_prob)\n",
    "\n",
    "print('Average precision-recall score: {0:0.2f}'.format(\n",
    "      average_precision))\n",
    "\n",
    "from sklearn.metrics import precision_recall_curve\n",
    "import matplotlib.pyplot as plt\n",
    "\n",
    "precision, recall, _ = precision_recall_curve(y_test, y_pred_prob)\n",
    "\n",
    "plt.step(recall, precision, color='b', alpha=0.2,\n",
    "         where='post')\n",
    "plt.fill_between(recall, precision, step='post', alpha=0.2,\n",
    "                 color='b')\n",
    "\n",
    "plt.xlabel('Recall')\n",
    "plt.ylabel('Precision')\n",
    "plt.ylim([0.0, 1.05])\n",
    "plt.xlim([0.0, 1.0])\n",
    "plt.title('2-class Precision-Recall curve: AP={0:0.2f}'.format(\n",
    "          average_precision))\n",
    "plt.show()"
   ]
  },
  {
   "cell_type": "markdown",
   "metadata": {},
   "source": [
    "### ROC Curve"
   ]
  },
  {
   "cell_type": "code",
   "execution_count": 197,
   "metadata": {},
   "outputs": [
    {
     "data": {
      "image/png": "[encoded data removed]",
      "text/plain": [
       "<matplotlib.figure.Figure at 0x115021128>"
      ]
     },
     "metadata": {},
     "output_type": "display_data"
    }
   ],
   "source": [
    "from sklearn.metrics import roc_curve\n",
    "\n",
    "# Generate ROC curve values: fpr, tpr, thresholds\n",
    "fpr, tpr, thresholds = roc_curve(y_test, y_pred_prob)\n",
    "\n",
    "# Plot ROC curve\n",
    "plt.plot([0, 1], [0, 1], 'k--')\n",
    "plt.plot(fpr, tpr)\n",
    "plt.xlabel('False Positive Rate')\n",
    "plt.ylabel('True Positive Rate')\n",
    "plt.ylim([0.0, 1.05])\n",
    "plt.xlim([0.0, 1.0])\n",
    "plt.title('ROC Curve')\n",
    "plt.show()"
   ]
  },
  {
   "cell_type": "code",
   "execution_count": null,
   "metadata": {
    "collapsed": true
   },
   "outputs": [],
   "source": []
  }
 ],
 "metadata": {
  "kernelspec": {
   "display_name": "Python 3",
   "language": "python",
   "name": "python3"
  },
  "language_info": {
   "codemirror_mode": {
    "name": "ipython",
    "version": 3
   },
   "file_extension": ".py",
   "mimetype": "text/x-python",
   "name": "python",
   "nbconvert_exporter": "python",
   "pygments_lexer": "ipython3",
   "version": "3.6.3"
  }
 },
 "nbformat": 4,
 "nbformat_minor": 2
}
