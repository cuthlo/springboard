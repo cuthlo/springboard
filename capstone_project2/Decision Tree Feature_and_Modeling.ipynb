{
 "cells": [
  {
   "cell_type": "code",
   "execution_count": 15,
   "metadata": {},
   "outputs": [],
   "source": [
    "import pandas as pd\n",
    "import numpy as np\n",
    "from datetime import datetime\n",
    "\n",
    "# data visualization\n",
    "import matplotlib.pyplot as plt\n",
    "import seaborn as sns # advanced vizs\n",
    "%matplotlib inline\n"
   ]
  },
  {
   "cell_type": "code",
   "execution_count": 2,
   "metadata": {},
   "outputs": [],
   "source": [
    "df_train_store = pd.read_csv('data/train_store.csv', low_memory = False, index_col=['Unnamed: 0'])"
   ]
  },
  {
   "cell_type": "code",
   "execution_count": 3,
   "metadata": {},
   "outputs": [
    {
     "name": "stdout",
     "output_type": "stream",
     "text": [
      "<class 'pandas.core.frame.DataFrame'>\n",
      "Int64Index: 844338 entries, 0 to 844337\n",
      "Data columns (total 24 columns):\n",
      "Store                        844338 non-null int64\n",
      "DayOfWeek                    844338 non-null int64\n",
      "Sales                        844338 non-null int64\n",
      "Customers                    844338 non-null int64\n",
      "Open                         844338 non-null int64\n",
      "Promo                        844338 non-null int64\n",
      "StateHoliday                 844338 non-null object\n",
      "SchoolHoliday                844338 non-null int64\n",
      "Year                         844338 non-null int64\n",
      "Month                        844338 non-null int64\n",
      "Day                          844338 non-null int64\n",
      "WeekOfYear                   844338 non-null int64\n",
      "SalePerCustomer              844338 non-null float64\n",
      "StoreType                    844338 non-null object\n",
      "Assortment                   844338 non-null object\n",
      "CompetitionDistance          844338 non-null float64\n",
      "CompetitionOpenSinceMonth    844338 non-null float64\n",
      "CompetitionOpenSinceYear     844338 non-null float64\n",
      "Promo2                       844338 non-null int64\n",
      "Promo2SinceWeek              844338 non-null float64\n",
      "Promo2SinceYear              844338 non-null float64\n",
      "PromoInterval                844338 non-null object\n",
      "CompetitionOpenByMonth       844338 non-null float64\n",
      "PromoOpenByMonth             844338 non-null float64\n",
      "dtypes: float64(8), int64(12), object(4)\n",
      "memory usage: 161.0+ MB\n"
     ]
    }
   ],
   "source": [
    "df_train_store.info()"
   ]
  },
  {
   "cell_type": "code",
   "execution_count": 4,
   "metadata": {},
   "outputs": [
    {
     "data": {
      "text/html": [
       "<div>\n",
       "<style scoped>\n",
       "    .dataframe tbody tr th:only-of-type {\n",
       "        vertical-align: middle;\n",
       "    }\n",
       "\n",
       "    .dataframe tbody tr th {\n",
       "        vertical-align: top;\n",
       "    }\n",
       "\n",
       "    .dataframe thead th {\n",
       "        text-align: right;\n",
       "    }\n",
       "</style>\n",
       "<table border=\"1\" class=\"dataframe\">\n",
       "  <thead>\n",
       "    <tr style=\"text-align: right;\">\n",
       "      <th></th>\n",
       "      <th>Store</th>\n",
       "      <th>DayOfWeek</th>\n",
       "      <th>Sales</th>\n",
       "      <th>Customers</th>\n",
       "      <th>Open</th>\n",
       "      <th>Promo</th>\n",
       "      <th>StateHoliday</th>\n",
       "      <th>SchoolHoliday</th>\n",
       "      <th>Year</th>\n",
       "      <th>Month</th>\n",
       "      <th>...</th>\n",
       "      <th>Assortment</th>\n",
       "      <th>CompetitionDistance</th>\n",
       "      <th>CompetitionOpenSinceMonth</th>\n",
       "      <th>CompetitionOpenSinceYear</th>\n",
       "      <th>Promo2</th>\n",
       "      <th>Promo2SinceWeek</th>\n",
       "      <th>Promo2SinceYear</th>\n",
       "      <th>PromoInterval</th>\n",
       "      <th>CompetitionOpenByMonth</th>\n",
       "      <th>PromoOpenByMonth</th>\n",
       "    </tr>\n",
       "  </thead>\n",
       "  <tbody>\n",
       "    <tr>\n",
       "      <th>0</th>\n",
       "      <td>292</td>\n",
       "      <td>3</td>\n",
       "      <td>5076</td>\n",
       "      <td>672</td>\n",
       "      <td>1</td>\n",
       "      <td>0</td>\n",
       "      <td>0</td>\n",
       "      <td>1</td>\n",
       "      <td>2013</td>\n",
       "      <td>1</td>\n",
       "      <td>...</td>\n",
       "      <td>a</td>\n",
       "      <td>1100.0</td>\n",
       "      <td>6.0</td>\n",
       "      <td>2009.0</td>\n",
       "      <td>0</td>\n",
       "      <td>0.0</td>\n",
       "      <td>0.0</td>\n",
       "      <td>0</td>\n",
       "      <td>43.0</td>\n",
       "      <td>24156.229885</td>\n",
       "    </tr>\n",
       "    <tr>\n",
       "      <th>1</th>\n",
       "      <td>292</td>\n",
       "      <td>4</td>\n",
       "      <td>4580</td>\n",
       "      <td>662</td>\n",
       "      <td>1</td>\n",
       "      <td>0</td>\n",
       "      <td>0</td>\n",
       "      <td>1</td>\n",
       "      <td>2013</td>\n",
       "      <td>1</td>\n",
       "      <td>...</td>\n",
       "      <td>a</td>\n",
       "      <td>1100.0</td>\n",
       "      <td>6.0</td>\n",
       "      <td>2009.0</td>\n",
       "      <td>0</td>\n",
       "      <td>0.0</td>\n",
       "      <td>0.0</td>\n",
       "      <td>0</td>\n",
       "      <td>43.0</td>\n",
       "      <td>24156.229885</td>\n",
       "    </tr>\n",
       "    <tr>\n",
       "      <th>2</th>\n",
       "      <td>292</td>\n",
       "      <td>5</td>\n",
       "      <td>4202</td>\n",
       "      <td>560</td>\n",
       "      <td>1</td>\n",
       "      <td>0</td>\n",
       "      <td>0</td>\n",
       "      <td>1</td>\n",
       "      <td>2013</td>\n",
       "      <td>1</td>\n",
       "      <td>...</td>\n",
       "      <td>a</td>\n",
       "      <td>1100.0</td>\n",
       "      <td>6.0</td>\n",
       "      <td>2009.0</td>\n",
       "      <td>0</td>\n",
       "      <td>0.0</td>\n",
       "      <td>0.0</td>\n",
       "      <td>0</td>\n",
       "      <td>43.0</td>\n",
       "      <td>24156.229885</td>\n",
       "    </tr>\n",
       "    <tr>\n",
       "      <th>3</th>\n",
       "      <td>292</td>\n",
       "      <td>6</td>\n",
       "      <td>2748</td>\n",
       "      <td>340</td>\n",
       "      <td>1</td>\n",
       "      <td>0</td>\n",
       "      <td>0</td>\n",
       "      <td>0</td>\n",
       "      <td>2013</td>\n",
       "      <td>1</td>\n",
       "      <td>...</td>\n",
       "      <td>a</td>\n",
       "      <td>1100.0</td>\n",
       "      <td>6.0</td>\n",
       "      <td>2009.0</td>\n",
       "      <td>0</td>\n",
       "      <td>0.0</td>\n",
       "      <td>0.0</td>\n",
       "      <td>0</td>\n",
       "      <td>43.0</td>\n",
       "      <td>24156.229885</td>\n",
       "    </tr>\n",
       "    <tr>\n",
       "      <th>4</th>\n",
       "      <td>292</td>\n",
       "      <td>1</td>\n",
       "      <td>9291</td>\n",
       "      <td>1002</td>\n",
       "      <td>1</td>\n",
       "      <td>1</td>\n",
       "      <td>0</td>\n",
       "      <td>0</td>\n",
       "      <td>2013</td>\n",
       "      <td>1</td>\n",
       "      <td>...</td>\n",
       "      <td>a</td>\n",
       "      <td>1100.0</td>\n",
       "      <td>6.0</td>\n",
       "      <td>2009.0</td>\n",
       "      <td>0</td>\n",
       "      <td>0.0</td>\n",
       "      <td>0.0</td>\n",
       "      <td>0</td>\n",
       "      <td>43.0</td>\n",
       "      <td>24156.459770</td>\n",
       "    </tr>\n",
       "  </tbody>\n",
       "</table>\n",
       "<p>5 rows × 24 columns</p>\n",
       "</div>"
      ],
      "text/plain": [
       "   Store  DayOfWeek  Sales  Customers  Open  Promo StateHoliday  \\\n",
       "0    292          3   5076        672     1      0            0   \n",
       "1    292          4   4580        662     1      0            0   \n",
       "2    292          5   4202        560     1      0            0   \n",
       "3    292          6   2748        340     1      0            0   \n",
       "4    292          1   9291       1002     1      1            0   \n",
       "\n",
       "   SchoolHoliday  Year  Month        ...         Assortment  \\\n",
       "0              1  2013      1        ...                  a   \n",
       "1              1  2013      1        ...                  a   \n",
       "2              1  2013      1        ...                  a   \n",
       "3              0  2013      1        ...                  a   \n",
       "4              0  2013      1        ...                  a   \n",
       "\n",
       "   CompetitionDistance  CompetitionOpenSinceMonth CompetitionOpenSinceYear  \\\n",
       "0               1100.0                        6.0                   2009.0   \n",
       "1               1100.0                        6.0                   2009.0   \n",
       "2               1100.0                        6.0                   2009.0   \n",
       "3               1100.0                        6.0                   2009.0   \n",
       "4               1100.0                        6.0                   2009.0   \n",
       "\n",
       "  Promo2  Promo2SinceWeek  Promo2SinceYear  PromoInterval  \\\n",
       "0      0              0.0              0.0              0   \n",
       "1      0              0.0              0.0              0   \n",
       "2      0              0.0              0.0              0   \n",
       "3      0              0.0              0.0              0   \n",
       "4      0              0.0              0.0              0   \n",
       "\n",
       "   CompetitionOpenByMonth  PromoOpenByMonth  \n",
       "0                    43.0      24156.229885  \n",
       "1                    43.0      24156.229885  \n",
       "2                    43.0      24156.229885  \n",
       "3                    43.0      24156.229885  \n",
       "4                    43.0      24156.459770  \n",
       "\n",
       "[5 rows x 24 columns]"
      ]
     },
     "execution_count": 4,
     "metadata": {},
     "output_type": "execute_result"
    }
   ],
   "source": [
    "df_train_store.head()"
   ]
  },
  {
   "cell_type": "markdown",
   "metadata": {},
   "source": [
    "### Converts categorical features into numerical features"
   ]
  },
  {
   "cell_type": "code",
   "execution_count": 5,
   "metadata": {},
   "outputs": [],
   "source": [
    "from sklearn.preprocessing import LabelEncoder\n",
    "le = LabelEncoder()\n",
    "tmp = le.fit_transform(df_train_store['PromoInterval'])\n",
    "df_train_store['PromoInterval'] = tmp\n",
    "\n",
    "tmp1 = le.fit_transform(df_train_store['StateHoliday'])\n",
    "df_train_store['StateHoliday'] = tmp1\n",
    "\n",
    "tmp2 = le.fit_transform(df_train_store['StoreType'])\n",
    "df_train_store['StoreType'] = tmp2\n",
    "\n",
    "tmp3 = le.fit_transform(df_train_store['Assortment'])\n",
    "df_train_store['Assortment'] = tmp3"
   ]
  },
  {
   "cell_type": "markdown",
   "metadata": {},
   "source": [
    "### Splitting time series data into Train set and Test set"
   ]
  },
  {
   "cell_type": "code",
   "execution_count": 6,
   "metadata": {},
   "outputs": [
    {
     "name": "stderr",
     "output_type": "stream",
     "text": [
      "/anaconda3/lib/python3.6/importlib/_bootstrap.py:219: RuntimeWarning: numpy.dtype size changed, may indicate binary incompatibility. Expected 96, got 88\n",
      "  return f(*args, **kwds)\n"
     ]
    }
   ],
   "source": [
    "from sklearn.model_selection import TimeSeriesSplit"
   ]
  },
  {
   "cell_type": "code",
   "execution_count": 7,
   "metadata": {},
   "outputs": [
    {
     "name": "stdout",
     "output_type": "stream",
     "text": [
      "TimeSeriesSplit(max_train_size=None, n_splits=3)\n"
     ]
    }
   ],
   "source": [
    "tscv = TimeSeriesSplit(n_splits=3)\n",
    "print(tscv)  \n"
   ]
  },
  {
   "cell_type": "code",
   "execution_count": 8,
   "metadata": {},
   "outputs": [],
   "source": [
    "X_columns = df_train_store.columns.values\n",
    "X_columns = X_columns.tolist()\n",
    "X_columns.remove('Sales')\n",
    "X_columns.remove('PromoOpenByMonth')\n",
    "X_columns.remove('SalePerCustomer')\n",
    "X_columns.remove('Customers')"
   ]
  },
  {
   "cell_type": "code",
   "execution_count": 9,
   "metadata": {},
   "outputs": [],
   "source": [
    "X, y = df_train_store[X_columns], df_train_store['Sales']"
   ]
  },
  {
   "cell_type": "code",
   "execution_count": 10,
   "metadata": {},
   "outputs": [
    {
     "name": "stdout",
     "output_type": "stream",
     "text": [
      "TRAIN: [     0      1      2 ... 211083 211084 211085] TEST: [211086 211087 211088 ... 422167 422168 422169]\n",
      "TRAIN: [     0      1      2 ... 422167 422168 422169] TEST: [422170 422171 422172 ... 633251 633252 633253]\n",
      "TRAIN: [     0      1      2 ... 633251 633252 633253] TEST: [633254 633255 633256 ... 844335 844336 844337]\n"
     ]
    }
   ],
   "source": [
    "for train_index, test_index in tscv.split(X):\n",
    "    print(\"TRAIN:\", train_index, \"TEST:\", test_index)\n",
    "    X_train, X_test = X.iloc[train_index], X.iloc[test_index]\n",
    "    y_train, y_test = y.iloc[train_index], y.iloc[test_index]\n"
   ]
  },
  {
   "cell_type": "markdown",
   "metadata": {},
   "source": [
    "### Model"
   ]
  },
  {
   "cell_type": "code",
   "execution_count": 11,
   "metadata": {},
   "outputs": [
    {
     "name": "stderr",
     "output_type": "stream",
     "text": [
      "/anaconda3/lib/python3.6/importlib/_bootstrap.py:219: RuntimeWarning: numpy.dtype size changed, may indicate binary incompatibility. Expected 96, got 88\n",
      "  return f(*args, **kwds)\n"
     ]
    }
   ],
   "source": [
    "from sklearn.tree import DecisionTreeRegressor\n",
    "from sklearn.preprocessing import MinMaxScaler\n",
    "from sklearn.pipeline import Pipeline\n",
    "from sklearn.model_selection import cross_val_score\n",
    "from sklearn.model_selection import GridSearchCV"
   ]
  },
  {
   "cell_type": "code",
   "execution_count": 12,
   "metadata": {},
   "outputs": [],
   "source": [
    "scaler = MinMaxScaler()\n",
    "scaler.fit(X_train)\n",
    "MinMaxScaler(copy=True, feature_range=(0,1))\n",
    "X_train_scaled = scaler.transform(X_train)\n",
    "X_test_scaled = scaler.transform(X_test)"
   ]
  },
  {
   "cell_type": "code",
   "execution_count": 13,
   "metadata": {},
   "outputs": [
    {
     "name": "stdout",
     "output_type": "stream",
     "text": [
      "CPU times: user 46.5 s, sys: 1.77 s, total: 48.2 s\n",
      "Wall time: 48.4 s\n"
     ]
    }
   ],
   "source": [
    "%%time\n",
    "\n",
    "# Setup the hyperparameter grid\n",
    "param_grid = {'min_samples_leaf': [1,5,10]}\n",
    "\n",
    "# instantiate model\n",
    "dtr = DecisionTreeRegressor()\n",
    "\n",
    "# Instantiate the GridSearchCV object: gbrt_cv\n",
    "dtr_cv = GridSearchCV(dtr, param_grid, cv=3)\n",
    "\n",
    "# Fit it to the data\n",
    "dtr_cv.fit(X_train_scaled, y_train)\n"
   ]
  },
  {
   "cell_type": "code",
   "execution_count": 14,
   "metadata": {},
   "outputs": [
    {
     "name": "stdout",
     "output_type": "stream",
     "text": [
      "Tuned parameters: {'min_samples_leaf': 5}\n",
      "Best score is -2.07034459195019\n",
      "Best estimator is DecisionTreeRegressor(criterion='mse', max_depth=None, max_features=None,\n",
      "           max_leaf_nodes=None, min_impurity_decrease=0.0,\n",
      "           min_impurity_split=None, min_samples_leaf=5,\n",
      "           min_samples_split=2, min_weight_fraction_leaf=0.0,\n",
      "           presort=False, random_state=None, splitter='best')\n"
     ]
    }
   ],
   "source": [
    "#Print the tuned parameters and score\n",
    "print(\"Tuned parameters: {}\".format(dtr_cv.best_params_)) \n",
    "print(\"Best score is {}\".format(dtr_cv.best_score_))\n",
    "print(\"Best estimator is {}\".format(dtr_cv.best_estimator_))"
   ]
  },
  {
   "cell_type": "code",
   "execution_count": 16,
   "metadata": {},
   "outputs": [
    {
     "name": "stdout",
     "output_type": "stream",
     "text": [
      "Training set sore: 0.95\n",
      "Test set score: -0.33\n",
      "CPU times: user 5.68 s, sys: 120 ms, total: 5.8 s\n",
      "Wall time: 5.82 s\n"
     ]
    }
   ],
   "source": [
    "%%time\n",
    "dtr = DecisionTreeRegressor(min_samples_leaf=5)\n",
    "dtr.fit(X_train_scaled, y_train)\n",
    "print(\"Training set sore: {:.2f}\".format(dtr.score(X_train_scaled, y_train)))\n",
    "print(\"Test set score: {:.2f}\".format(dtr.score(X_test_scaled, y_test)))"
   ]
  },
  {
   "cell_type": "code",
   "execution_count": 16,
   "metadata": {},
   "outputs": [
    {
     "data": {
      "text/plain": [
       "array([5546., 1621., 6885., ..., 4790., 5032., 5265.])"
      ]
     },
     "execution_count": 16,
     "metadata": {},
     "output_type": "execute_result"
    }
   ],
   "source": [
    "dtr.predict(X_test)"
   ]
  },
  {
   "cell_type": "code",
   "execution_count": null,
   "metadata": {},
   "outputs": [],
   "source": []
  },
  {
   "cell_type": "code",
   "execution_count": null,
   "metadata": {},
   "outputs": [],
   "source": []
  }
 ],
 "metadata": {
  "kernelspec": {
   "display_name": "Python 3",
   "language": "python",
   "name": "python3"
  },
  "language_info": {
   "codemirror_mode": {
    "name": "ipython",
    "version": 3
   },
   "file_extension": ".py",
   "mimetype": "text/x-python",
   "name": "python",
   "nbconvert_exporter": "python",
   "pygments_lexer": "ipython3",
   "version": "3.6.4"
  }
 },
 "nbformat": 4,
 "nbformat_minor": 2
}
